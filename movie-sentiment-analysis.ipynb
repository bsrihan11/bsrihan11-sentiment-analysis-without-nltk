{
 "cells": [
  {
   "cell_type": "code",
   "execution_count": 1,
   "id": "4898ab92",
   "metadata": {
    "_cell_guid": "b1076dfc-b9ad-4769-8c92-a6c4dae69d19",
    "_uuid": "8f2839f25d086af736a60e9eeb907d3b93b6e0e5",
    "execution": {
     "iopub.execute_input": "2023-08-31T16:58:40.893462Z",
     "iopub.status.busy": "2023-08-31T16:58:40.892639Z",
     "iopub.status.idle": "2023-08-31T16:58:40.908629Z",
     "shell.execute_reply": "2023-08-31T16:58:40.907408Z"
    },
    "papermill": {
     "duration": 0.045524,
     "end_time": "2023-08-31T16:58:40.910795",
     "exception": false,
     "start_time": "2023-08-31T16:58:40.865271",
     "status": "completed"
    },
    "tags": []
   },
   "outputs": [
    {
     "name": "stdout",
     "output_type": "stream",
     "text": [
      "/kaggle/input/sentiment-prediction-on-movie-reviews/movies.csv\n",
      "/kaggle/input/sentiment-prediction-on-movie-reviews/sample.csv\n",
      "/kaggle/input/sentiment-prediction-on-movie-reviews/train.csv\n",
      "/kaggle/input/sentiment-prediction-on-movie-reviews/test.csv\n"
     ]
    }
   ],
   "source": [
    "# This Python 3 environment comes with many helpful analytics libraries installed\n",
    "# It is defined by the kaggle/python Docker image: https://github.com/kaggle/docker-python\n",
    "# For example, here's several helpful packages to load\n",
    "\n",
    "import numpy as np # linear algebra\n",
    "import pandas as pd # data processing, CSV file I/O (e.g. pd.read_csv)\n",
    "\n",
    "# Input data files are available in the read-only \"../input/\" directory\n",
    "# For example, running this (by clicking run or pressing Shift+Enter) will list all files under the input director\n",
    "import os\n",
    "for dirname, _, filenames in os.walk('/kaggle/input'):\n",
    "    for filename in filenames:\n",
    "        print(os.path.join(dirname, filename))\n",
    "\n",
    "# You can write up to 20GB to the current directory (/kaggle/working/) that gets preserved as output when you create a version using \"Save & Run All\" \n",
    "# You can also write temporary files to /kaggle/temp/, but they won't be saved outside of the current session"
   ]
  },
  {
   "cell_type": "markdown",
   "id": "d2f80b8f",
   "metadata": {
    "papermill": {
     "duration": 0.022485,
     "end_time": "2023-08-31T16:58:40.957201",
     "exception": false,
     "start_time": "2023-08-31T16:58:40.934716",
     "status": "completed"
    },
    "tags": []
   },
   "source": [
    "# **Importing Basic Dependencies**"
   ]
  },
  {
   "cell_type": "code",
   "execution_count": 2,
   "id": "3d1d96de",
   "metadata": {
    "execution": {
     "iopub.execute_input": "2023-08-31T16:58:41.005667Z",
     "iopub.status.busy": "2023-08-31T16:58:41.004790Z",
     "iopub.status.idle": "2023-08-31T16:58:42.533689Z",
     "shell.execute_reply": "2023-08-31T16:58:42.532552Z"
    },
    "papermill": {
     "duration": 1.555718,
     "end_time": "2023-08-31T16:58:42.536525",
     "exception": false,
     "start_time": "2023-08-31T16:58:40.980807",
     "status": "completed"
    },
    "tags": []
   },
   "outputs": [],
   "source": [
    "import pandas as pd\n",
    "import pickle\n",
    "import matplotlib.pyplot as plt\n",
    "import seaborn as sns\n",
    "import numpy as np\n",
    "from sklearn.metrics import classification_report,accuracy_score\n",
    "from sklearn.metrics import confusion_matrix, ConfusionMatrixDisplay\n",
    "from sklearn.model_selection import RandomizedSearchCV, train_test_split\n",
    "import string\n",
    "import re\n",
    "import math\n",
    "import warnings"
   ]
  },
  {
   "cell_type": "markdown",
   "id": "3ab10563",
   "metadata": {
    "papermill": {
     "duration": 0.023727,
     "end_time": "2023-08-31T16:58:42.588147",
     "exception": false,
     "start_time": "2023-08-31T16:58:42.564420",
     "status": "completed"
    },
    "tags": []
   },
   "source": [
    "# **Loading Datasets**"
   ]
  },
  {
   "cell_type": "code",
   "execution_count": 3,
   "id": "ccbdcc3c",
   "metadata": {
    "execution": {
     "iopub.execute_input": "2023-08-31T16:58:42.636889Z",
     "iopub.status.busy": "2023-08-31T16:58:42.636558Z",
     "iopub.status.idle": "2023-08-31T16:58:44.511373Z",
     "shell.execute_reply": "2023-08-31T16:58:44.510266Z"
    },
    "papermill": {
     "duration": 1.902643,
     "end_time": "2023-08-31T16:58:44.514005",
     "exception": false,
     "start_time": "2023-08-31T16:58:42.611362",
     "status": "completed"
    },
    "tags": []
   },
   "outputs": [],
   "source": [
    "df=pd.read_csv('/kaggle/input/sentiment-prediction-on-movie-reviews/train.csv')\n",
    "movies=pd.read_csv('/kaggle/input/sentiment-prediction-on-movie-reviews/movies.csv')\n",
    "test=pd.read_csv('/kaggle/input/sentiment-prediction-on-movie-reviews/test.csv')"
   ]
  },
  {
   "cell_type": "markdown",
   "id": "55fb1064",
   "metadata": {
    "papermill": {
     "duration": 0.024251,
     "end_time": "2023-08-31T16:58:44.562231",
     "exception": false,
     "start_time": "2023-08-31T16:58:44.537980",
     "status": "completed"
    },
    "tags": []
   },
   "source": [
    "# **EDA and Preprocessing**"
   ]
  },
  {
   "cell_type": "markdown",
   "id": "8c0a37c1",
   "metadata": {
    "papermill": {
     "duration": 0.023828,
     "end_time": "2023-08-31T16:58:44.610222",
     "exception": false,
     "start_time": "2023-08-31T16:58:44.586394",
     "status": "completed"
    },
    "tags": []
   },
   "source": [
    "**1. On Datasets**\n",
    "\n",
    "Null value analysis of movies and train df data is given below.Columns with more than **50%** null values will be dropped"
   ]
  },
  {
   "cell_type": "code",
   "execution_count": 4,
   "id": "d93f9f23",
   "metadata": {
    "execution": {
     "iopub.execute_input": "2023-08-31T16:58:44.658503Z",
     "iopub.status.busy": "2023-08-31T16:58:44.658138Z",
     "iopub.status.idle": "2023-08-31T16:58:45.094023Z",
     "shell.execute_reply": "2023-08-31T16:58:45.093001Z"
    },
    "papermill": {
     "duration": 0.462883,
     "end_time": "2023-08-31T16:58:45.096740",
     "exception": false,
     "start_time": "2023-08-31T16:58:44.633857",
     "status": "completed"
    },
    "tags": []
   },
   "outputs": [
    {
     "data": {
      "text/plain": [
       "movieid                  0.000000\n",
       "title                    0.000000\n",
       "audienceScore           48.869871\n",
       "rating                  90.233704\n",
       "ratingContents          90.233704\n",
       "releaseDateTheaters     78.519175\n",
       "releaseDateStreaming    44.561560\n",
       "runtimeMinutes           9.651817\n",
       "genre                    7.736392\n",
       "originalLanguage         9.673456\n",
       "director                 0.000000\n",
       "boxOffice               89.708777\n",
       "distributor             83.941560\n",
       "soundType               88.889277\n",
       "dtype: float64"
      ]
     },
     "execution_count": 4,
     "metadata": {},
     "output_type": "execute_result"
    }
   ],
   "source": [
    "(movies.isnull().sum()/len(movies))*100"
   ]
  },
  {
   "cell_type": "code",
   "execution_count": 5,
   "id": "2e4a9b71",
   "metadata": {
    "execution": {
     "iopub.execute_input": "2023-08-31T16:58:45.145587Z",
     "iopub.status.busy": "2023-08-31T16:58:45.145263Z",
     "iopub.status.idle": "2023-08-31T16:58:45.344669Z",
     "shell.execute_reply": "2023-08-31T16:58:45.343554Z"
    },
    "papermill": {
     "duration": 0.22531,
     "end_time": "2023-08-31T16:58:45.346905",
     "exception": false,
     "start_time": "2023-08-31T16:58:45.121595",
     "status": "completed"
    },
    "tags": []
   },
   "outputs": [
    {
     "data": {
      "text/plain": [
       "movieid               0.000000\n",
       "reviewerName          0.000000\n",
       "isFrequentReviewer    0.000000\n",
       "reviewText            3.961096\n",
       "sentiment             0.000000\n",
       "dtype: float64"
      ]
     },
     "execution_count": 5,
     "metadata": {},
     "output_type": "execute_result"
    }
   ],
   "source": [
    "(df.isnull().sum()/len(df))*100"
   ]
  },
  {
   "cell_type": "code",
   "execution_count": 6,
   "id": "8769e82d",
   "metadata": {
    "execution": {
     "iopub.execute_input": "2023-08-31T16:58:45.397364Z",
     "iopub.status.busy": "2023-08-31T16:58:45.397071Z",
     "iopub.status.idle": "2023-08-31T16:58:45.419671Z",
     "shell.execute_reply": "2023-08-31T16:58:45.418636Z"
    },
    "papermill": {
     "duration": 0.050657,
     "end_time": "2023-08-31T16:58:45.421921",
     "exception": false,
     "start_time": "2023-08-31T16:58:45.371264",
     "status": "completed"
    },
    "tags": []
   },
   "outputs": [
    {
     "data": {
      "text/html": [
       "<div>\n",
       "<style scoped>\n",
       "    .dataframe tbody tr th:only-of-type {\n",
       "        vertical-align: middle;\n",
       "    }\n",
       "\n",
       "    .dataframe tbody tr th {\n",
       "        vertical-align: top;\n",
       "    }\n",
       "\n",
       "    .dataframe thead th {\n",
       "        text-align: right;\n",
       "    }\n",
       "</style>\n",
       "<table border=\"1\" class=\"dataframe\">\n",
       "  <thead>\n",
       "    <tr style=\"text-align: right;\">\n",
       "      <th></th>\n",
       "      <th>movieid</th>\n",
       "      <th>title</th>\n",
       "      <th>audienceScore</th>\n",
       "      <th>rating</th>\n",
       "      <th>ratingContents</th>\n",
       "      <th>releaseDateTheaters</th>\n",
       "      <th>releaseDateStreaming</th>\n",
       "      <th>runtimeMinutes</th>\n",
       "      <th>genre</th>\n",
       "      <th>originalLanguage</th>\n",
       "      <th>director</th>\n",
       "      <th>boxOffice</th>\n",
       "      <th>distributor</th>\n",
       "      <th>soundType</th>\n",
       "    </tr>\n",
       "  </thead>\n",
       "  <tbody>\n",
       "    <tr>\n",
       "      <th>0</th>\n",
       "      <td>han_solo_heroic_myth_wonder_woman</td>\n",
       "      <td>Han Solo Heroic Myth Wonder Woman</td>\n",
       "      <td>50.0</td>\n",
       "      <td>NaN</td>\n",
       "      <td>NaN</td>\n",
       "      <td>NaN</td>\n",
       "      <td>2018-08-25</td>\n",
       "      <td>75.0</td>\n",
       "      <td>Comedy, Horror, Sci-fi</td>\n",
       "      <td>English</td>\n",
       "      <td>Claude Nicolet</td>\n",
       "      <td>NaN</td>\n",
       "      <td>NaN</td>\n",
       "      <td>NaN</td>\n",
       "    </tr>\n",
       "    <tr>\n",
       "      <th>1</th>\n",
       "      <td>voyage_tyler_durden_han_solo_stardust</td>\n",
       "      <td>Voyage Tyler Durden Han Solo Stardust</td>\n",
       "      <td>NaN</td>\n",
       "      <td>NaN</td>\n",
       "      <td>NaN</td>\n",
       "      <td>NaN</td>\n",
       "      <td>2020-02-11</td>\n",
       "      <td>114.0</td>\n",
       "      <td>Drama</td>\n",
       "      <td>English</td>\n",
       "      <td>Nathan Haack</td>\n",
       "      <td>NaN</td>\n",
       "      <td>NaN</td>\n",
       "      <td>NaN</td>\n",
       "    </tr>\n",
       "    <tr>\n",
       "      <th>2</th>\n",
       "      <td>norman_bates_ferris_bueller_hermione_granger_v...</td>\n",
       "      <td>Norman Bates Ferris Bueller Hermione Granger V...</td>\n",
       "      <td>43.0</td>\n",
       "      <td>NaN</td>\n",
       "      <td>NaN</td>\n",
       "      <td>NaN</td>\n",
       "      <td>NaN</td>\n",
       "      <td>120.0</td>\n",
       "      <td>Drama</td>\n",
       "      <td>Korean</td>\n",
       "      <td>Theresa Smith</td>\n",
       "      <td>NaN</td>\n",
       "      <td>NaN</td>\n",
       "      <td>NaN</td>\n",
       "    </tr>\n",
       "    <tr>\n",
       "      <th>3</th>\n",
       "      <td>elegant_hermione_granger</td>\n",
       "      <td>Elegant Hermione Granger</td>\n",
       "      <td>60.0</td>\n",
       "      <td>NaN</td>\n",
       "      <td>NaN</td>\n",
       "      <td>NaN</td>\n",
       "      <td>2020-10-23</td>\n",
       "      <td>90.0</td>\n",
       "      <td>Action, Mystery &amp; thriller</td>\n",
       "      <td>English</td>\n",
       "      <td>Donald Lewis</td>\n",
       "      <td>NaN</td>\n",
       "      <td>NaN</td>\n",
       "      <td>NaN</td>\n",
       "    </tr>\n",
       "    <tr>\n",
       "      <th>4</th>\n",
       "      <td>adventure_rocky_balboa</td>\n",
       "      <td>Adventure Rocky Balboa</td>\n",
       "      <td>70.0</td>\n",
       "      <td>NaN</td>\n",
       "      <td>NaN</td>\n",
       "      <td>NaN</td>\n",
       "      <td>2017-03-27</td>\n",
       "      <td>80.0</td>\n",
       "      <td>Fantasy, Adventure, Animation</td>\n",
       "      <td>English</td>\n",
       "      <td>Howard Simms</td>\n",
       "      <td>NaN</td>\n",
       "      <td>NaN</td>\n",
       "      <td>NaN</td>\n",
       "    </tr>\n",
       "  </tbody>\n",
       "</table>\n",
       "</div>"
      ],
      "text/plain": [
       "                                             movieid  \\\n",
       "0                  han_solo_heroic_myth_wonder_woman   \n",
       "1              voyage_tyler_durden_han_solo_stardust   \n",
       "2  norman_bates_ferris_bueller_hermione_granger_v...   \n",
       "3                           elegant_hermione_granger   \n",
       "4                             adventure_rocky_balboa   \n",
       "\n",
       "                                               title  audienceScore rating  \\\n",
       "0                  Han Solo Heroic Myth Wonder Woman           50.0    NaN   \n",
       "1              Voyage Tyler Durden Han Solo Stardust            NaN    NaN   \n",
       "2  Norman Bates Ferris Bueller Hermione Granger V...           43.0    NaN   \n",
       "3                           Elegant Hermione Granger           60.0    NaN   \n",
       "4                             Adventure Rocky Balboa           70.0    NaN   \n",
       "\n",
       "  ratingContents releaseDateTheaters releaseDateStreaming  runtimeMinutes  \\\n",
       "0            NaN                 NaN           2018-08-25            75.0   \n",
       "1            NaN                 NaN           2020-02-11           114.0   \n",
       "2            NaN                 NaN                  NaN           120.0   \n",
       "3            NaN                 NaN           2020-10-23            90.0   \n",
       "4            NaN                 NaN           2017-03-27            80.0   \n",
       "\n",
       "                           genre originalLanguage        director boxOffice  \\\n",
       "0         Comedy, Horror, Sci-fi          English  Claude Nicolet       NaN   \n",
       "1                          Drama          English    Nathan Haack       NaN   \n",
       "2                          Drama           Korean   Theresa Smith       NaN   \n",
       "3     Action, Mystery & thriller          English    Donald Lewis       NaN   \n",
       "4  Fantasy, Adventure, Animation          English    Howard Simms       NaN   \n",
       "\n",
       "  distributor soundType  \n",
       "0         NaN       NaN  \n",
       "1         NaN       NaN  \n",
       "2         NaN       NaN  \n",
       "3         NaN       NaN  \n",
       "4         NaN       NaN  "
      ]
     },
     "execution_count": 6,
     "metadata": {},
     "output_type": "execute_result"
    }
   ],
   "source": [
    "movies.head()"
   ]
  },
  {
   "cell_type": "code",
   "execution_count": 7,
   "id": "30d46390",
   "metadata": {
    "execution": {
     "iopub.execute_input": "2023-08-31T16:58:45.517260Z",
     "iopub.status.busy": "2023-08-31T16:58:45.516751Z",
     "iopub.status.idle": "2023-08-31T16:58:45.532314Z",
     "shell.execute_reply": "2023-08-31T16:58:45.531191Z"
    },
    "papermill": {
     "duration": 0.069483,
     "end_time": "2023-08-31T16:58:45.535393",
     "exception": false,
     "start_time": "2023-08-31T16:58:45.465910",
     "status": "completed"
    },
    "tags": []
   },
   "outputs": [
    {
     "data": {
      "text/html": [
       "<div>\n",
       "<style scoped>\n",
       "    .dataframe tbody tr th:only-of-type {\n",
       "        vertical-align: middle;\n",
       "    }\n",
       "\n",
       "    .dataframe tbody tr th {\n",
       "        vertical-align: top;\n",
       "    }\n",
       "\n",
       "    .dataframe thead th {\n",
       "        text-align: right;\n",
       "    }\n",
       "</style>\n",
       "<table border=\"1\" class=\"dataframe\">\n",
       "  <thead>\n",
       "    <tr style=\"text-align: right;\">\n",
       "      <th></th>\n",
       "      <th>movieid</th>\n",
       "      <th>reviewerName</th>\n",
       "      <th>isFrequentReviewer</th>\n",
       "      <th>reviewText</th>\n",
       "      <th>sentiment</th>\n",
       "    </tr>\n",
       "  </thead>\n",
       "  <tbody>\n",
       "    <tr>\n",
       "      <th>0</th>\n",
       "      <td>marvelous_pirate</td>\n",
       "      <td>Benjamin Henry</td>\n",
       "      <td>False</td>\n",
       "      <td>Henry Selick’s first movie since 2009’s Corali...</td>\n",
       "      <td>POSITIVE</td>\n",
       "    </tr>\n",
       "    <tr>\n",
       "      <th>1</th>\n",
       "      <td>tony_montana_frodo_baggins_v_rocky_balboa</td>\n",
       "      <td>Felicia Lopez</td>\n",
       "      <td>False</td>\n",
       "      <td>With a cast that reads like the Vogue Oscar pa...</td>\n",
       "      <td>NEGATIVE</td>\n",
       "    </tr>\n",
       "    <tr>\n",
       "      <th>2</th>\n",
       "      <td>darth_vader_katniss_everdeen_sorcerer_donnie_d...</td>\n",
       "      <td>Mr. Charles Burgess</td>\n",
       "      <td>True</td>\n",
       "      <td>Creed II does not give us anything but another...</td>\n",
       "      <td>POSITIVE</td>\n",
       "    </tr>\n",
       "    <tr>\n",
       "      <th>3</th>\n",
       "      <td>lara_croft_glimmer</td>\n",
       "      <td>Ryan Barrett</td>\n",
       "      <td>False</td>\n",
       "      <td>I know what you're thinking, but this is no Li...</td>\n",
       "      <td>POSITIVE</td>\n",
       "    </tr>\n",
       "    <tr>\n",
       "      <th>4</th>\n",
       "      <td>jason_bourne_surreal_the_terminator_indiana_jones</td>\n",
       "      <td>Alexander Glover</td>\n",
       "      <td>False</td>\n",
       "      <td>Director Fernando Meirelles tells the story wi...</td>\n",
       "      <td>POSITIVE</td>\n",
       "    </tr>\n",
       "  </tbody>\n",
       "</table>\n",
       "</div>"
      ],
      "text/plain": [
       "                                             movieid         reviewerName  \\\n",
       "0                                   marvelous_pirate       Benjamin Henry   \n",
       "1          tony_montana_frodo_baggins_v_rocky_balboa        Felicia Lopez   \n",
       "2  darth_vader_katniss_everdeen_sorcerer_donnie_d...  Mr. Charles Burgess   \n",
       "3                                 lara_croft_glimmer         Ryan Barrett   \n",
       "4  jason_bourne_surreal_the_terminator_indiana_jones     Alexander Glover   \n",
       "\n",
       "   isFrequentReviewer                                         reviewText  \\\n",
       "0               False  Henry Selick’s first movie since 2009’s Corali...   \n",
       "1               False  With a cast that reads like the Vogue Oscar pa...   \n",
       "2                True  Creed II does not give us anything but another...   \n",
       "3               False  I know what you're thinking, but this is no Li...   \n",
       "4               False  Director Fernando Meirelles tells the story wi...   \n",
       "\n",
       "  sentiment  \n",
       "0  POSITIVE  \n",
       "1  NEGATIVE  \n",
       "2  POSITIVE  \n",
       "3  POSITIVE  \n",
       "4  POSITIVE  "
      ]
     },
     "execution_count": 7,
     "metadata": {},
     "output_type": "execute_result"
    }
   ],
   "source": [
    "df.head()"
   ]
  },
  {
   "cell_type": "code",
   "execution_count": 8,
   "id": "581041d0",
   "metadata": {
    "execution": {
     "iopub.execute_input": "2023-08-31T16:58:45.587424Z",
     "iopub.status.busy": "2023-08-31T16:58:45.587131Z",
     "iopub.status.idle": "2023-08-31T16:58:45.626595Z",
     "shell.execute_reply": "2023-08-31T16:58:45.625468Z"
    },
    "papermill": {
     "duration": 0.067151,
     "end_time": "2023-08-31T16:58:45.629174",
     "exception": false,
     "start_time": "2023-08-31T16:58:45.562023",
     "status": "completed"
    },
    "tags": []
   },
   "outputs": [
    {
     "data": {
      "text/html": [
       "<div>\n",
       "<style scoped>\n",
       "    .dataframe tbody tr th:only-of-type {\n",
       "        vertical-align: middle;\n",
       "    }\n",
       "\n",
       "    .dataframe tbody tr th {\n",
       "        vertical-align: top;\n",
       "    }\n",
       "\n",
       "    .dataframe thead th {\n",
       "        text-align: right;\n",
       "    }\n",
       "</style>\n",
       "<table border=\"1\" class=\"dataframe\">\n",
       "  <thead>\n",
       "    <tr style=\"text-align: right;\">\n",
       "      <th></th>\n",
       "      <th>audienceScore</th>\n",
       "      <th>runtimeMinutes</th>\n",
       "    </tr>\n",
       "  </thead>\n",
       "  <tbody>\n",
       "    <tr>\n",
       "      <th>count</th>\n",
       "      <td>73248.000000</td>\n",
       "      <td>129431.000000</td>\n",
       "    </tr>\n",
       "    <tr>\n",
       "      <th>mean</th>\n",
       "      <td>55.674967</td>\n",
       "      <td>93.708578</td>\n",
       "    </tr>\n",
       "    <tr>\n",
       "      <th>std</th>\n",
       "      <td>24.553648</td>\n",
       "      <td>28.129175</td>\n",
       "    </tr>\n",
       "    <tr>\n",
       "      <th>min</th>\n",
       "      <td>0.000000</td>\n",
       "      <td>1.000000</td>\n",
       "    </tr>\n",
       "    <tr>\n",
       "      <th>25%</th>\n",
       "      <td>37.000000</td>\n",
       "      <td>84.000000</td>\n",
       "    </tr>\n",
       "    <tr>\n",
       "      <th>50%</th>\n",
       "      <td>57.000000</td>\n",
       "      <td>92.000000</td>\n",
       "    </tr>\n",
       "    <tr>\n",
       "      <th>75%</th>\n",
       "      <td>76.000000</td>\n",
       "      <td>103.000000</td>\n",
       "    </tr>\n",
       "    <tr>\n",
       "      <th>max</th>\n",
       "      <td>100.000000</td>\n",
       "      <td>2700.000000</td>\n",
       "    </tr>\n",
       "  </tbody>\n",
       "</table>\n",
       "</div>"
      ],
      "text/plain": [
       "       audienceScore  runtimeMinutes\n",
       "count   73248.000000   129431.000000\n",
       "mean       55.674967       93.708578\n",
       "std        24.553648       28.129175\n",
       "min         0.000000        1.000000\n",
       "25%        37.000000       84.000000\n",
       "50%        57.000000       92.000000\n",
       "75%        76.000000      103.000000\n",
       "max       100.000000     2700.000000"
      ]
     },
     "execution_count": 8,
     "metadata": {},
     "output_type": "execute_result"
    }
   ],
   "source": [
    "movies.describe()"
   ]
  },
  {
   "cell_type": "markdown",
   "id": "e183be0b",
   "metadata": {
    "papermill": {
     "duration": 0.024621,
     "end_time": "2023-08-31T16:58:45.681630",
     "exception": false,
     "start_time": "2023-08-31T16:58:45.657009",
     "status": "completed"
    },
    "tags": []
   },
   "source": [
    "**Pie chart below depicts our sentiment distribution 1 is for positive and 0 for negative,No resampling was done as minority class is present in sufficient numbers and also SMOTE reduced acuracy for us.**"
   ]
  },
  {
   "cell_type": "code",
   "execution_count": 9,
   "id": "32784a49",
   "metadata": {
    "execution": {
     "iopub.execute_input": "2023-08-31T16:58:45.731598Z",
     "iopub.status.busy": "2023-08-31T16:58:45.731269Z",
     "iopub.status.idle": "2023-08-31T16:58:45.939940Z",
     "shell.execute_reply": "2023-08-31T16:58:45.939093Z"
    },
    "papermill": {
     "duration": 0.236941,
     "end_time": "2023-08-31T16:58:45.942917",
     "exception": false,
     "start_time": "2023-08-31T16:58:45.705976",
     "status": "completed"
    },
    "tags": []
   },
   "outputs": [
    {
     "data": {
      "image/png": "[encoded data removed]",
      "text/plain": [
       "<Figure size 640x480 with 1 Axes>"
      ]
     },
     "metadata": {},
     "output_type": "display_data"
    }
   ],
   "source": [
    "colors = ['lightcoral', 'lightskyblue']\n",
    "\n",
    "plt.pie(df['sentiment'].value_counts().values, labels=df['sentiment'].value_counts().index, colors=colors, autopct='%1.1f%%')\n",
    "plt.axis('equal') \n",
    "\n",
    "plt.title('Sentiment Dist.')\n",
    "\n",
    "\n",
    "plt.show()"
   ]
  },
  {
   "cell_type": "code",
   "execution_count": 10,
   "id": "7c24ccad",
   "metadata": {
    "execution": {
     "iopub.execute_input": "2023-08-31T16:58:46.028212Z",
     "iopub.status.busy": "2023-08-31T16:58:46.027880Z",
     "iopub.status.idle": "2023-08-31T16:58:46.044448Z",
     "shell.execute_reply": "2023-08-31T16:58:46.043476Z"
    },
    "papermill": {
     "duration": 0.050005,
     "end_time": "2023-08-31T16:58:46.046487",
     "exception": false,
     "start_time": "2023-08-31T16:58:45.996482",
     "status": "completed"
    },
    "tags": []
   },
   "outputs": [],
   "source": [
    "movies=movies.drop(columns=['rating','ratingContents',\n",
    "       'releaseDateTheaters','boxOffice',\n",
    "        'distributor','soundType'])"
   ]
  },
  {
   "cell_type": "markdown",
   "id": "25ab483f",
   "metadata": {
    "papermill": {
     "duration": 0.024296,
     "end_time": "2023-08-31T16:58:46.095605",
     "exception": false,
     "start_time": "2023-08-31T16:58:46.071309",
     "status": "completed"
    },
    "tags": []
   },
   "source": [
    "We will impute other features latr on but **reviewText** column will be imputed now with empty string **''**."
   ]
  },
  {
   "cell_type": "code",
   "execution_count": 11,
   "id": "6119b51a",
   "metadata": {
    "execution": {
     "iopub.execute_input": "2023-08-31T16:58:46.145155Z",
     "iopub.status.busy": "2023-08-31T16:58:46.144852Z",
     "iopub.status.idle": "2023-08-31T16:58:46.177152Z",
     "shell.execute_reply": "2023-08-31T16:58:46.176200Z"
    },
    "papermill": {
     "duration": 0.059927,
     "end_time": "2023-08-31T16:58:46.179453",
     "exception": false,
     "start_time": "2023-08-31T16:58:46.119526",
     "status": "completed"
    },
    "tags": []
   },
   "outputs": [],
   "source": [
    "df['reviewText']=df['reviewText'].fillna('')"
   ]
  },
  {
   "cell_type": "markdown",
   "id": "a31ef422",
   "metadata": {
    "papermill": {
     "duration": 0.02394,
     "end_time": "2023-08-31T16:58:46.228122",
     "exception": false,
     "start_time": "2023-08-31T16:58:46.204182",
     "status": "completed"
    },
    "tags": []
   },
   "source": [
    "**2. On Features**"
   ]
  },
  {
   "cell_type": "markdown",
   "id": "2e97a21f",
   "metadata": {
    "papermill": {
     "duration": 0.024612,
     "end_time": "2023-08-31T16:58:46.277356",
     "exception": false,
     "start_time": "2023-08-31T16:58:46.252744",
     "status": "completed"
    },
    "tags": []
   },
   "source": [
    "Many features like audienceScore etc. were found to have multiple values for a single unique key during our analysis.Code showing the same is given below:-"
   ]
  },
  {
   "cell_type": "code",
   "execution_count": 12,
   "id": "9dd7b9e2",
   "metadata": {
    "execution": {
     "iopub.execute_input": "2023-08-31T16:58:46.328731Z",
     "iopub.status.busy": "2023-08-31T16:58:46.328407Z",
     "iopub.status.idle": "2023-08-31T16:58:46.378532Z",
     "shell.execute_reply": "2023-08-31T16:58:46.377457Z"
    },
    "papermill": {
     "duration": 0.077845,
     "end_time": "2023-08-31T16:58:46.380882",
     "exception": false,
     "start_time": "2023-08-31T16:58:46.303037",
     "status": "completed"
    },
    "tags": []
   },
   "outputs": [
    {
     "name": "stdout",
     "output_type": "stream",
     "text": [
      "No of Unique movie in movies dataset are: 126404\n"
     ]
    }
   ],
   "source": [
    "print(f'No of Unique movie in movies dataset are: {movies[\"movieid\"].nunique()}')"
   ]
  },
  {
   "cell_type": "code",
   "execution_count": 13,
   "id": "ae8550cf",
   "metadata": {
    "execution": {
     "iopub.execute_input": "2023-08-31T16:58:46.433898Z",
     "iopub.status.busy": "2023-08-31T16:58:46.433587Z",
     "iopub.status.idle": "2023-08-31T16:58:46.755013Z",
     "shell.execute_reply": "2023-08-31T16:58:46.754059Z"
    },
    "papermill": {
     "duration": 0.350039,
     "end_time": "2023-08-31T16:58:46.757193",
     "exception": false,
     "start_time": "2023-08-31T16:58:46.407154",
     "status": "completed"
    },
    "tags": []
   },
   "outputs": [
    {
     "data": {
      "text/html": [
       "<div>\n",
       "<style scoped>\n",
       "    .dataframe tbody tr th:only-of-type {\n",
       "        vertical-align: middle;\n",
       "    }\n",
       "\n",
       "    .dataframe tbody tr th {\n",
       "        vertical-align: top;\n",
       "    }\n",
       "\n",
       "    .dataframe thead th {\n",
       "        text-align: right;\n",
       "    }\n",
       "</style>\n",
       "<table border=\"1\" class=\"dataframe\">\n",
       "  <thead>\n",
       "    <tr style=\"text-align: right;\">\n",
       "      <th></th>\n",
       "      <th>movieid</th>\n",
       "      <th>audienceScore</th>\n",
       "      <th>runtimeMinutes</th>\n",
       "      <th>releaseDateStreaming</th>\n",
       "      <th>originalLanguage</th>\n",
       "    </tr>\n",
       "  </thead>\n",
       "  <tbody>\n",
       "    <tr>\n",
       "      <th>0</th>\n",
       "      <td>adventure_anakin_skywalker</td>\n",
       "      <td>1</td>\n",
       "      <td>1</td>\n",
       "      <td>1</td>\n",
       "      <td>1</td>\n",
       "    </tr>\n",
       "    <tr>\n",
       "      <th>1</th>\n",
       "      <td>adventure_anakin_skywalker_chronicles_whisper</td>\n",
       "      <td>0</td>\n",
       "      <td>1</td>\n",
       "      <td>1</td>\n",
       "      <td>1</td>\n",
       "    </tr>\n",
       "    <tr>\n",
       "      <th>2</th>\n",
       "      <td>adventure_astonish</td>\n",
       "      <td>1</td>\n",
       "      <td>1</td>\n",
       "      <td>1</td>\n",
       "      <td>1</td>\n",
       "    </tr>\n",
       "    <tr>\n",
       "      <th>3</th>\n",
       "      <td>adventure_astonish_wondrous_beneath</td>\n",
       "      <td>1</td>\n",
       "      <td>1</td>\n",
       "      <td>1</td>\n",
       "      <td>1</td>\n",
       "    </tr>\n",
       "    <tr>\n",
       "      <th>4</th>\n",
       "      <td>adventure_aurora_epic</td>\n",
       "      <td>0</td>\n",
       "      <td>1</td>\n",
       "      <td>1</td>\n",
       "      <td>1</td>\n",
       "    </tr>\n",
       "  </tbody>\n",
       "</table>\n",
       "</div>"
      ],
      "text/plain": [
       "                                         movieid  audienceScore  \\\n",
       "0                     adventure_anakin_skywalker              1   \n",
       "1  adventure_anakin_skywalker_chronicles_whisper              0   \n",
       "2                             adventure_astonish              1   \n",
       "3            adventure_astonish_wondrous_beneath              1   \n",
       "4                          adventure_aurora_epic              0   \n",
       "\n",
       "   runtimeMinutes  releaseDateStreaming  originalLanguage  \n",
       "0               1                     1                 1  \n",
       "1               1                     1                 1  \n",
       "2               1                     1                 1  \n",
       "3               1                     1                 1  \n",
       "4               1                     1                 1  "
      ]
     },
     "execution_count": 13,
     "metadata": {},
     "output_type": "execute_result"
    }
   ],
   "source": [
    "aggVals=movies.groupby('movieid').agg({\n",
    "    'audienceScore':'count',\n",
    "    'runtimeMinutes':'count',\n",
    "    'releaseDateStreaming':'count',\n",
    "    'originalLanguage':'count'\n",
    "}).reset_index()\n",
    "\n",
    "aggVals.head()"
   ]
  },
  {
   "cell_type": "code",
   "execution_count": 14,
   "id": "12ba19be",
   "metadata": {
    "execution": {
     "iopub.execute_input": "2023-08-31T16:58:46.808993Z",
     "iopub.status.busy": "2023-08-31T16:58:46.808699Z",
     "iopub.status.idle": "2023-08-31T16:58:46.817096Z",
     "shell.execute_reply": "2023-08-31T16:58:46.816128Z"
    },
    "papermill": {
     "duration": 0.036489,
     "end_time": "2023-08-31T16:58:46.819119",
     "exception": false,
     "start_time": "2023-08-31T16:58:46.782630",
     "status": "completed"
    },
    "tags": []
   },
   "outputs": [
    {
     "data": {
      "text/plain": [
       "1     61173\n",
       "0     60217\n",
       "2      3734\n",
       "3       840\n",
       "4       260\n",
       "5       100\n",
       "6        41\n",
       "7        20\n",
       "8        11\n",
       "9         7\n",
       "10        1\n",
       "Name: audienceScore, dtype: int64"
      ]
     },
     "execution_count": 14,
     "metadata": {},
     "output_type": "execute_result"
    }
   ],
   "source": [
    "aggVals['audienceScore'].value_counts()"
   ]
  },
  {
   "cell_type": "code",
   "execution_count": 15,
   "id": "9046e07d",
   "metadata": {
    "execution": {
     "iopub.execute_input": "2023-08-31T16:58:46.869908Z",
     "iopub.status.busy": "2023-08-31T16:58:46.869648Z",
     "iopub.status.idle": "2023-08-31T16:58:46.878229Z",
     "shell.execute_reply": "2023-08-31T16:58:46.877120Z"
    },
    "papermill": {
     "duration": 0.037161,
     "end_time": "2023-08-31T16:58:46.881590",
     "exception": false,
     "start_time": "2023-08-31T16:58:46.844429",
     "status": "completed"
    },
    "tags": []
   },
   "outputs": [
    {
     "data": {
      "text/plain": [
       "1     66261\n",
       "0     54708\n",
       "2      4019\n",
       "3       918\n",
       "4       314\n",
       "5        95\n",
       "6        50\n",
       "7        22\n",
       "8         9\n",
       "9         4\n",
       "12        2\n",
       "40        1\n",
       "10        1\n",
       "Name: releaseDateStreaming, dtype: int64"
      ]
     },
     "execution_count": 15,
     "metadata": {},
     "output_type": "execute_result"
    }
   ],
   "source": [
    "aggVals['releaseDateStreaming'].value_counts()"
   ]
  },
  {
   "cell_type": "markdown",
   "id": "4844e2fb",
   "metadata": {
    "papermill": {
     "duration": 0.024855,
     "end_time": "2023-08-31T16:58:46.932041",
     "exception": false,
     "start_time": "2023-08-31T16:58:46.907186",
     "status": "completed"
    },
    "tags": []
   },
   "source": [
    "**Therefore aggregation function for these columns is needed.**"
   ]
  },
  {
   "cell_type": "code",
   "execution_count": 16,
   "id": "b74d9b11",
   "metadata": {
    "execution": {
     "iopub.execute_input": "2023-08-31T16:58:46.983360Z",
     "iopub.status.busy": "2023-08-31T16:58:46.982977Z",
     "iopub.status.idle": "2023-08-31T16:58:46.999076Z",
     "shell.execute_reply": "2023-08-31T16:58:46.998119Z"
    },
    "papermill": {
     "duration": 0.044198,
     "end_time": "2023-08-31T16:58:47.001119",
     "exception": false,
     "start_time": "2023-08-31T16:58:46.956921",
     "status": "completed"
    },
    "tags": []
   },
   "outputs": [],
   "source": [
    "#Aggregating Genre\n",
    "def agg_genre(data):\n",
    "  lis=set()\n",
    "  for index,value in data.items():\n",
    "    if isinstance(value, float) and math.isnan(value):\n",
    "      continue\n",
    "\n",
    "    temp=value.split(',')\n",
    "    for j in temp:\n",
    "      lis.add(j.strip().lower())\n",
    "\n",
    "  lis=set(' '.join(lis).split(' '))\n",
    "\n",
    "  if len(lis)==0:\n",
    "    return ''\n",
    "  else:\n",
    "    return ' '.join(lis)\n",
    "\n",
    "#Aggregating runtime\n",
    "def agg_runtime(data):\n",
    "  lis=set()\n",
    "  for index,value in data.items():\n",
    "    if isinstance(value, float) and math.isnan(value):\n",
    "      continue\n",
    "\n",
    "    lis.add(value)\n",
    "\n",
    "  lis=list(lis)\n",
    "\n",
    "  if len(lis)==0:\n",
    "    return np.nan\n",
    "  else:\n",
    "    return round(np.quantile(lis,0.5),0)\n",
    "\n",
    "\n",
    "#Aggregating audience Score\n",
    "def agg_score(data):\n",
    "  lis=set()\n",
    "  for index,value in data.items():\n",
    "    if isinstance(value, float) and math.isnan(value):\n",
    "      continue\n",
    "\n",
    "    lis.add(value)\n",
    "\n",
    "  lis=list(lis)\n",
    "\n",
    "  if len(lis)==0:\n",
    "    return np.nan\n",
    "  else:\n",
    "    return round(np.quantile(lis,0.5),0)\n",
    "\n",
    "#Aggregating language\n",
    "def agg_lang(data):\n",
    "  lis=set()\n",
    "  for index,value in data.items():\n",
    "    if isinstance(value, float) and math.isnan(value):\n",
    "      continue\n",
    "\n",
    "    temp=value.split()\n",
    "    for j in temp:\n",
    "      lis.add(j.strip().lower())\n",
    "\n",
    "  lis=set(' '.join(lis).split(' '))\n",
    "\n",
    "  if len(lis)==0:\n",
    "    return np.nan\n",
    "  else:\n",
    "    return ' '.join(lis)\n",
    "\n",
    "\n",
    "#Aggregate Date\n",
    "def agg_date(data):\n",
    " lis=set()\n",
    " for index,value in data.items():\n",
    "    if isinstance(value, float) and math.isnan(value):\n",
    "        continue\n",
    "            \n",
    "    lis.add(value)\n",
    "    \n",
    " lis=list(lis)\n",
    " if len(lis)==0:\n",
    "    return np.nan\n",
    " else:\n",
    "    return lis\n",
    "\n",
    "\n",
    "#Aggregating Director\n",
    "\n",
    "def agg_director(data):\n",
    "  lis=set()\n",
    "  for index,value in data.items():\n",
    "    if isinstance(value, float) and math.isnan(value):\n",
    "      continue\n",
    "\n",
    "    lis.add(''.join(value.split(' ')))\n",
    "\n",
    "\n",
    "  lis=list(lis)\n",
    "\n",
    "\n",
    "\n",
    "  if len(lis)==0:\n",
    "    return np.nan\n",
    "  else:\n",
    "    return ' '.join(lis)\n"
   ]
  },
  {
   "cell_type": "markdown",
   "id": "327d6906",
   "metadata": {
    "papermill": {
     "duration": 0.02513,
     "end_time": "2023-08-31T16:58:47.052453",
     "exception": false,
     "start_time": "2023-08-31T16:58:47.027323",
     "status": "completed"
    },
    "tags": []
   },
   "source": [
    "Some preprocessing was needed to bring uniformity among genre:-"
   ]
  },
  {
   "cell_type": "code",
   "execution_count": 17,
   "id": "5c5241f8",
   "metadata": {
    "execution": {
     "iopub.execute_input": "2023-08-31T16:58:47.105247Z",
     "iopub.status.busy": "2023-08-31T16:58:47.104933Z",
     "iopub.status.idle": "2023-08-31T17:00:01.606033Z",
     "shell.execute_reply": "2023-08-31T17:00:01.605017Z"
    },
    "papermill": {
     "duration": 74.556661,
     "end_time": "2023-08-31T17:00:01.634382",
     "exception": false,
     "start_time": "2023-08-31T16:58:47.077721",
     "status": "completed"
    },
    "tags": []
   },
   "outputs": [
    {
     "data": {
      "text/plain": [
       "{'Action',\n",
       " 'Adventure',\n",
       " 'Animation',\n",
       " 'Anime',\n",
       " 'Biography',\n",
       " 'Comedy',\n",
       " 'Crime',\n",
       " 'Documentary',\n",
       " 'Drama',\n",
       " 'Entertainment',\n",
       " 'Faith',\n",
       " 'Fantasy',\n",
       " 'Foreign',\n",
       " 'Health',\n",
       " 'History',\n",
       " 'Holiday',\n",
       " 'Horror',\n",
       " 'Kids',\n",
       " 'LGBTQ+',\n",
       " 'Musical',\n",
       " 'Mystery-Thriller',\n",
       " 'Nature',\n",
       " 'News',\n",
       " 'Other',\n",
       " 'Reality',\n",
       " 'Romance',\n",
       " 'Sci-fi',\n",
       " 'Short',\n",
       " 'Specials',\n",
       " 'Sports',\n",
       " 'Variety',\n",
       " 'War',\n",
       " 'Western'}"
      ]
     },
     "execution_count": 17,
     "metadata": {},
     "output_type": "execute_result"
    }
   ],
   "source": [
    "\n",
    "codes={\n",
    "    'Mystery & thriller':'Mystery-Thriller',\n",
    "    'Faith & spirituality':'Faith',\n",
    "    'Sports & fitness':'Sports',\n",
    "    'Health & wellness':'Health',\n",
    "    'Special interest':'Specials',\n",
    "    'Gay & lesbian':'LGBTQ+',\n",
    "    'Kids & family':'Kids',\n",
    "    'Lgbtq+':'LGBTQ+',\n",
    "    'Stand-up':'Comedy',\n",
    "    'Music':'Musical'\n",
    "}\n",
    "genre=[]\n",
    "for index,value in movies['genre'].items():\n",
    "    if isinstance(value, float) and math.isnan(value):\n",
    "        continue\n",
    "    \n",
    "    temp=value.split(',')\n",
    "    \n",
    "    for j in range(len(temp)):\n",
    "        val=temp[j].strip()\n",
    "        if val in codes:\n",
    "            temp[j]=codes[val]\n",
    "            genre.append(codes[val])\n",
    "        else:\n",
    "            temp[j]=val\n",
    "            genre.append(val)\n",
    "        \n",
    "    movies.loc[index,'genre']=' '.join(temp)\n",
    "\n",
    "set(genre)"
   ]
  },
  {
   "cell_type": "code",
   "execution_count": 18,
   "id": "04a58343",
   "metadata": {
    "execution": {
     "iopub.execute_input": "2023-08-31T17:00:01.692334Z",
     "iopub.status.busy": "2023-08-31T17:00:01.690910Z",
     "iopub.status.idle": "2023-08-31T17:00:56.886796Z",
     "shell.execute_reply": "2023-08-31T17:00:56.885725Z"
    },
    "papermill": {
     "duration": 55.2292,
     "end_time": "2023-08-31T17:00:56.889591",
     "exception": false,
     "start_time": "2023-08-31T17:00:01.660391",
     "status": "completed"
    },
    "tags": []
   },
   "outputs": [],
   "source": [
    "movies = movies.groupby('movieid').agg({\n",
    "                               'title': 'first',\n",
    "                               'audienceScore':agg_score,\n",
    "                                'releaseDateStreaming':agg_date,\n",
    "                                'runtimeMinutes':agg_runtime,\n",
    "                                'originalLanguage':agg_lang,\n",
    "                                'genre':agg_genre,\n",
    "                               'director':agg_director\n",
    "                               }).reset_index()"
   ]
  },
  {
   "cell_type": "markdown",
   "id": "f3357095",
   "metadata": {
    "papermill": {
     "duration": 0.024482,
     "end_time": "2023-08-31T17:00:56.941704",
     "exception": false,
     "start_time": "2023-08-31T17:00:56.917222",
     "status": "completed"
    },
    "tags": []
   },
   "source": [
    "**EDA for our reviewText column**"
   ]
  },
  {
   "cell_type": "markdown",
   "id": "3b665385",
   "metadata": {
    "papermill": {
     "duration": 0.024713,
     "end_time": "2023-08-31T17:00:56.992253",
     "exception": false,
     "start_time": "2023-08-31T17:00:56.967540",
     "status": "completed"
    },
    "tags": []
   },
   "source": [
    "Below are some of the functions to be used to clean text data.It involves:-\n",
    "1. **removal of stop words**\n",
    "2. **removing puntuations**\n",
    "3. **removing square brackets**:its one of the specific difficulties in data where review contains [] mentioning that full review is available somewhere else or in different language. "
   ]
  },
  {
   "cell_type": "code",
   "execution_count": 19,
   "id": "bcd30abf",
   "metadata": {
    "execution": {
     "iopub.execute_input": "2023-08-31T17:00:57.045193Z",
     "iopub.status.busy": "2023-08-31T17:00:57.044819Z",
     "iopub.status.idle": "2023-08-31T17:00:57.058701Z",
     "shell.execute_reply": "2023-08-31T17:00:57.057816Z"
    },
    "papermill": {
     "duration": 0.043164,
     "end_time": "2023-08-31T17:00:57.060811",
     "exception": false,
     "start_time": "2023-08-31T17:00:57.017647",
     "status": "completed"
    },
    "tags": []
   },
   "outputs": [],
   "source": [
    "PUNCT_TO_REMOVE = string.punctuation\n",
    "\n",
    "\n",
    "#Some negative words that were affecting our accuracy ahead were omitted from stop words.\n",
    "\n",
    "#Final list compiled is as follows.\n",
    "\n",
    "stop_words= ['yourselves', 'between', 'whom', 'itself', 'is', \"shes\", 'up', 'herself', 'here', 'your', 'each', \n",
    "             'we', 'he', 'my', \"youve\", 'having', 'in', 'both', 'for', 'themselves', 'are', 'them', 'other',\n",
    "             'and', 'an', 'during', 'their', 'can', 'yourself', 'she', 'until', 'so', 'these', 'ours', 'above', \n",
    "             'what', 'while', 'have', 're', 'more', 'only', \"needn't\", 'when', 'just', 'that', 'were', \"dont\", \n",
    "             'very', 'should', 'any', 'y', 'isnt', 'who',  'a', 'they', 'to', 'too', \"shouldve\", 'has', 'before',\n",
    "             'into', 'yours', \"its\", 'do', 'against', 'on',  'now', 'her', 've', 'd', 'by', 'am', 'from', \n",
    "             'about', 'further', \"thatll\", \"youd\", 'you', 'as', 'how', 'been', 'the', 'or', 'doing', 'such',\n",
    "             'his', 'himself', 'ourselves',  'was', 'through', 'out', 'below', 'own', 'myself', 'theirs', \n",
    "             'me', 'why', 'once',  'him', 'than', 'be', 'most', \"youll\", 'same', 'some', 'with', 'few', 'it',\n",
    "             'at', 'after', 'its', 'which', 'there','our', 'this', 'hers', 'being', 'did', 'of', 'had', 'under',\n",
    "             'over','again', 'where', 'those', 'then', \"you're\", 'i', 'because', 'does', 'all',\n",
    "            'youre','ive','im','whos']\n",
    "\n",
    "\n",
    "def remove_punctuation(text):\n",
    "    \n",
    "    return text.translate(str.maketrans('', '', PUNCT_TO_REMOVE))\n",
    "\n",
    "\n",
    "\n",
    "def remove_square_brackets(text):\n",
    "    \n",
    "    text_without_brackets = re.sub(r'\\[.*?\\]', '', text)\n",
    "\n",
    "    return text_without_brackets\n",
    "\n",
    "\n",
    "\n",
    "def remove_stopwords(content):\n",
    "    clean_data = []\n",
    "    for i in content.split():\n",
    "        if i.strip().lower() not in stop_words and i.strip().isalpha():\n",
    "            clean_data.append(i.strip().lower())\n",
    "    return \" \".join(clean_data)\n",
    "\n",
    "\n",
    "def data_cleaning(content):\n",
    "    content = remove_square_brackets(content)\n",
    "    content=remove_punctuation(content)\n",
    "    content = remove_stopwords(content)\n",
    "    \n",
    "\n",
    "    return content"
   ]
  },
  {
   "cell_type": "code",
   "execution_count": 20,
   "id": "b5dea3b5",
   "metadata": {
    "execution": {
     "iopub.execute_input": "2023-08-31T17:00:57.116450Z",
     "iopub.status.busy": "2023-08-31T17:00:57.116154Z",
     "iopub.status.idle": "2023-08-31T17:01:05.239818Z",
     "shell.execute_reply": "2023-08-31T17:01:05.238824Z"
    },
    "papermill": {
     "duration": 8.154342,
     "end_time": "2023-08-31T17:01:05.242723",
     "exception": false,
     "start_time": "2023-08-31T17:00:57.088381",
     "status": "completed"
    },
    "tags": []
   },
   "outputs": [],
   "source": [
    "df['cleanedText']=df['reviewText'].apply(data_cleaning)"
   ]
  },
  {
   "cell_type": "code",
   "execution_count": 21,
   "id": "cbbc917e",
   "metadata": {
    "execution": {
     "iopub.execute_input": "2023-08-31T17:01:05.295378Z",
     "iopub.status.busy": "2023-08-31T17:01:05.295020Z",
     "iopub.status.idle": "2023-08-31T17:01:05.306844Z",
     "shell.execute_reply": "2023-08-31T17:01:05.305927Z"
    },
    "papermill": {
     "duration": 0.039642,
     "end_time": "2023-08-31T17:01:05.309215",
     "exception": false,
     "start_time": "2023-08-31T17:01:05.269573",
     "status": "completed"
    },
    "tags": []
   },
   "outputs": [
    {
     "data": {
      "text/html": [
       "<div>\n",
       "<style scoped>\n",
       "    .dataframe tbody tr th:only-of-type {\n",
       "        vertical-align: middle;\n",
       "    }\n",
       "\n",
       "    .dataframe tbody tr th {\n",
       "        vertical-align: top;\n",
       "    }\n",
       "\n",
       "    .dataframe thead th {\n",
       "        text-align: right;\n",
       "    }\n",
       "</style>\n",
       "<table border=\"1\" class=\"dataframe\">\n",
       "  <thead>\n",
       "    <tr style=\"text-align: right;\">\n",
       "      <th></th>\n",
       "      <th>movieid</th>\n",
       "      <th>reviewerName</th>\n",
       "      <th>isFrequentReviewer</th>\n",
       "      <th>reviewText</th>\n",
       "      <th>sentiment</th>\n",
       "      <th>cleanedText</th>\n",
       "    </tr>\n",
       "  </thead>\n",
       "  <tbody>\n",
       "    <tr>\n",
       "      <th>0</th>\n",
       "      <td>marvelous_pirate</td>\n",
       "      <td>Benjamin Henry</td>\n",
       "      <td>False</td>\n",
       "      <td>Henry Selick’s first movie since 2009’s Corali...</td>\n",
       "      <td>POSITIVE</td>\n",
       "      <td>henry first movie since coraline fifth stopmot...</td>\n",
       "    </tr>\n",
       "    <tr>\n",
       "      <th>1</th>\n",
       "      <td>tony_montana_frodo_baggins_v_rocky_balboa</td>\n",
       "      <td>Felicia Lopez</td>\n",
       "      <td>False</td>\n",
       "      <td>With a cast that reads like the Vogue Oscar pa...</td>\n",
       "      <td>NEGATIVE</td>\n",
       "      <td>cast reads like vogue oscar party guest list v...</td>\n",
       "    </tr>\n",
       "    <tr>\n",
       "      <th>2</th>\n",
       "      <td>darth_vader_katniss_everdeen_sorcerer_donnie_d...</td>\n",
       "      <td>Mr. Charles Burgess</td>\n",
       "      <td>True</td>\n",
       "      <td>Creed II does not give us anything but another...</td>\n",
       "      <td>POSITIVE</td>\n",
       "      <td>creed ii not give us anything but another slig...</td>\n",
       "    </tr>\n",
       "    <tr>\n",
       "      <th>3</th>\n",
       "      <td>lara_croft_glimmer</td>\n",
       "      <td>Ryan Barrett</td>\n",
       "      <td>False</td>\n",
       "      <td>I know what you're thinking, but this is no Li...</td>\n",
       "      <td>POSITIVE</td>\n",
       "      <td>know thinking but no limitless bradley cooper ...</td>\n",
       "    </tr>\n",
       "    <tr>\n",
       "      <th>4</th>\n",
       "      <td>jason_bourne_surreal_the_terminator_indiana_jones</td>\n",
       "      <td>Alexander Glover</td>\n",
       "      <td>False</td>\n",
       "      <td>Director Fernando Meirelles tells the story wi...</td>\n",
       "      <td>POSITIVE</td>\n",
       "      <td>director fernando meirelles tells story urgenc...</td>\n",
       "    </tr>\n",
       "  </tbody>\n",
       "</table>\n",
       "</div>"
      ],
      "text/plain": [
       "                                             movieid         reviewerName  \\\n",
       "0                                   marvelous_pirate       Benjamin Henry   \n",
       "1          tony_montana_frodo_baggins_v_rocky_balboa        Felicia Lopez   \n",
       "2  darth_vader_katniss_everdeen_sorcerer_donnie_d...  Mr. Charles Burgess   \n",
       "3                                 lara_croft_glimmer         Ryan Barrett   \n",
       "4  jason_bourne_surreal_the_terminator_indiana_jones     Alexander Glover   \n",
       "\n",
       "   isFrequentReviewer                                         reviewText  \\\n",
       "0               False  Henry Selick’s first movie since 2009’s Corali...   \n",
       "1               False  With a cast that reads like the Vogue Oscar pa...   \n",
       "2                True  Creed II does not give us anything but another...   \n",
       "3               False  I know what you're thinking, but this is no Li...   \n",
       "4               False  Director Fernando Meirelles tells the story wi...   \n",
       "\n",
       "  sentiment                                        cleanedText  \n",
       "0  POSITIVE  henry first movie since coraline fifth stopmot...  \n",
       "1  NEGATIVE  cast reads like vogue oscar party guest list v...  \n",
       "2  POSITIVE  creed ii not give us anything but another slig...  \n",
       "3  POSITIVE  know thinking but no limitless bradley cooper ...  \n",
       "4  POSITIVE  director fernando meirelles tells story urgenc...  "
      ]
     },
     "execution_count": 21,
     "metadata": {},
     "output_type": "execute_result"
    }
   ],
   "source": [
    "df.head()"
   ]
  },
  {
   "cell_type": "markdown",
   "id": "bb2aba24",
   "metadata": {
    "papermill": {
     "duration": 0.025167,
     "end_time": "2023-08-31T17:01:05.360823",
     "exception": false,
     "start_time": "2023-08-31T17:01:05.335656",
     "status": "completed"
    },
    "tags": []
   },
   "source": [
    "**Joining df and movies for further EDA and modeling**"
   ]
  },
  {
   "cell_type": "code",
   "execution_count": 22,
   "id": "3de2f927",
   "metadata": {
    "execution": {
     "iopub.execute_input": "2023-08-31T17:01:05.413622Z",
     "iopub.status.busy": "2023-08-31T17:01:05.413331Z",
     "iopub.status.idle": "2023-08-31T17:01:05.421054Z",
     "shell.execute_reply": "2023-08-31T17:01:05.420133Z"
    },
    "papermill": {
     "duration": 0.036134,
     "end_time": "2023-08-31T17:01:05.423168",
     "exception": false,
     "start_time": "2023-08-31T17:01:05.387034",
     "status": "completed"
    },
    "tags": []
   },
   "outputs": [],
   "source": [
    "#We are also imputing,encoding for few columns along with merging in this function.\n",
    "def merge_movies_train(meta,main):\n",
    "    train = pd.merge(meta,main, on='movieid', how='inner', indicator=True)\n",
    "    main = train[train['_merge'] == 'both'].drop('_merge', axis=1)\n",
    "    main['sentiment']=main['sentiment'].replace({'POSITIVE':1,'NEGATIVE':0})\n",
    "    main['isFrequentReviewer']=main['isFrequentReviewer'].replace({True: 1, False: 0})\n",
    "    main['reviewText']=main['reviewText'].fillna('')\n",
    "    \n",
    "    score_fill=round(main['audienceScore'].mean(),0)\n",
    "    runtime_fill=round(main['runtimeMinutes'].mean(),0)\n",
    "    main['audienceScore']=main['audienceScore'].fillna(score_fill)\n",
    "    main['runtimeMinutes']=main['runtimeMinutes'].fillna(score_fill)\n",
    "    return main"
   ]
  },
  {
   "cell_type": "code",
   "execution_count": 23,
   "id": "c65d4d84",
   "metadata": {
    "execution": {
     "iopub.execute_input": "2023-08-31T17:01:05.510017Z",
     "iopub.status.busy": "2023-08-31T17:01:05.509530Z",
     "iopub.status.idle": "2023-08-31T17:01:06.360545Z",
     "shell.execute_reply": "2023-08-31T17:01:06.359476Z"
    },
    "papermill": {
     "duration": 0.900436,
     "end_time": "2023-08-31T17:01:06.363536",
     "exception": false,
     "start_time": "2023-08-31T17:01:05.463100",
     "status": "completed"
    },
    "tags": []
   },
   "outputs": [],
   "source": [
    "df=merge_movies_train(movies,df)"
   ]
  },
  {
   "cell_type": "code",
   "execution_count": 24,
   "id": "59ca272a",
   "metadata": {
    "execution": {
     "iopub.execute_input": "2023-08-31T17:01:06.460254Z",
     "iopub.status.busy": "2023-08-31T17:01:06.459783Z",
     "iopub.status.idle": "2023-08-31T17:01:06.490919Z",
     "shell.execute_reply": "2023-08-31T17:01:06.490026Z"
    },
    "papermill": {
     "duration": 0.089601,
     "end_time": "2023-08-31T17:01:06.493740",
     "exception": false,
     "start_time": "2023-08-31T17:01:06.404139",
     "status": "completed"
    },
    "tags": []
   },
   "outputs": [
    {
     "data": {
      "text/html": [
       "<div>\n",
       "<style scoped>\n",
       "    .dataframe tbody tr th:only-of-type {\n",
       "        vertical-align: middle;\n",
       "    }\n",
       "\n",
       "    .dataframe tbody tr th {\n",
       "        vertical-align: top;\n",
       "    }\n",
       "\n",
       "    .dataframe thead th {\n",
       "        text-align: right;\n",
       "    }\n",
       "</style>\n",
       "<table border=\"1\" class=\"dataframe\">\n",
       "  <thead>\n",
       "    <tr style=\"text-align: right;\">\n",
       "      <th></th>\n",
       "      <th>movieid</th>\n",
       "      <th>title</th>\n",
       "      <th>audienceScore</th>\n",
       "      <th>releaseDateStreaming</th>\n",
       "      <th>runtimeMinutes</th>\n",
       "      <th>originalLanguage</th>\n",
       "      <th>genre</th>\n",
       "      <th>director</th>\n",
       "      <th>reviewerName</th>\n",
       "      <th>isFrequentReviewer</th>\n",
       "      <th>reviewText</th>\n",
       "      <th>sentiment</th>\n",
       "      <th>cleanedText</th>\n",
       "    </tr>\n",
       "  </thead>\n",
       "  <tbody>\n",
       "    <tr>\n",
       "      <th>0</th>\n",
       "      <td>adventure_captain_america_harry_potter</td>\n",
       "      <td>Adventure Captain America Harry Potter</td>\n",
       "      <td>70.0</td>\n",
       "      <td>[2017-11-07]</td>\n",
       "      <td>111.0</td>\n",
       "      <td>(canada) english french</td>\n",
       "      <td>biography romance drama</td>\n",
       "      <td>MichelleRainey DessieGilchrist</td>\n",
       "      <td>Stephanie Arnold</td>\n",
       "      <td>0</td>\n",
       "      <td>Shine intermittently, especially for its cast ...</td>\n",
       "      <td>1</td>\n",
       "      <td>shine intermittently especially cast especiall...</td>\n",
       "    </tr>\n",
       "    <tr>\n",
       "      <th>1</th>\n",
       "      <td>adventure_captain_america_harry_potter</td>\n",
       "      <td>Adventure Captain America Harry Potter</td>\n",
       "      <td>70.0</td>\n",
       "      <td>[2017-11-07]</td>\n",
       "      <td>111.0</td>\n",
       "      <td>(canada) english french</td>\n",
       "      <td>biography romance drama</td>\n",
       "      <td>MichelleRainey DessieGilchrist</td>\n",
       "      <td>Suzanne Davidson</td>\n",
       "      <td>1</td>\n",
       "      <td>As in Destin Daniel Cretton's previous feature...</td>\n",
       "      <td>0</td>\n",
       "      <td>destin daniel crettons previous feature short ...</td>\n",
       "    </tr>\n",
       "    <tr>\n",
       "      <th>2</th>\n",
       "      <td>adventure_captain_america_harry_potter</td>\n",
       "      <td>Adventure Captain America Harry Potter</td>\n",
       "      <td>70.0</td>\n",
       "      <td>[2017-11-07]</td>\n",
       "      <td>111.0</td>\n",
       "      <td>(canada) english french</td>\n",
       "      <td>biography romance drama</td>\n",
       "      <td>MichelleRainey DessieGilchrist</td>\n",
       "      <td>David Allison</td>\n",
       "      <td>1</td>\n",
       "      <td>It's the rare star-driven crowd pleaser smart ...</td>\n",
       "      <td>1</td>\n",
       "      <td>rare stardriven crowd pleaser smart enough pre...</td>\n",
       "    </tr>\n",
       "    <tr>\n",
       "      <th>3</th>\n",
       "      <td>adventure_captain_america_harry_potter</td>\n",
       "      <td>Adventure Captain America Harry Potter</td>\n",
       "      <td>70.0</td>\n",
       "      <td>[2017-11-07]</td>\n",
       "      <td>111.0</td>\n",
       "      <td>(canada) english french</td>\n",
       "      <td>biography romance drama</td>\n",
       "      <td>MichelleRainey DessieGilchrist</td>\n",
       "      <td>Kenneth Nichols</td>\n",
       "      <td>0</td>\n",
       "      <td>Slickly sanitized, Destin Daniel Cretton's scr...</td>\n",
       "      <td>0</td>\n",
       "      <td>slickly sanitized destin daniel crettons scree...</td>\n",
       "    </tr>\n",
       "    <tr>\n",
       "      <th>4</th>\n",
       "      <td>adventure_captain_america_harry_potter</td>\n",
       "      <td>Adventure Captain America Harry Potter</td>\n",
       "      <td>70.0</td>\n",
       "      <td>[2017-11-07]</td>\n",
       "      <td>111.0</td>\n",
       "      <td>(canada) english french</td>\n",
       "      <td>biography romance drama</td>\n",
       "      <td>MichelleRainey DessieGilchrist</td>\n",
       "      <td>Andrew Kramer</td>\n",
       "      <td>0</td>\n",
       "      <td>Maybe she's weighed down by the big hair but [...</td>\n",
       "      <td>0</td>\n",
       "      <td>maybe weighed down big hair but larson left le...</td>\n",
       "    </tr>\n",
       "  </tbody>\n",
       "</table>\n",
       "</div>"
      ],
      "text/plain": [
       "                                  movieid  \\\n",
       "0  adventure_captain_america_harry_potter   \n",
       "1  adventure_captain_america_harry_potter   \n",
       "2  adventure_captain_america_harry_potter   \n",
       "3  adventure_captain_america_harry_potter   \n",
       "4  adventure_captain_america_harry_potter   \n",
       "\n",
       "                                    title  audienceScore releaseDateStreaming  \\\n",
       "0  Adventure Captain America Harry Potter           70.0         [2017-11-07]   \n",
       "1  Adventure Captain America Harry Potter           70.0         [2017-11-07]   \n",
       "2  Adventure Captain America Harry Potter           70.0         [2017-11-07]   \n",
       "3  Adventure Captain America Harry Potter           70.0         [2017-11-07]   \n",
       "4  Adventure Captain America Harry Potter           70.0         [2017-11-07]   \n",
       "\n",
       "   runtimeMinutes         originalLanguage                    genre  \\\n",
       "0           111.0  (canada) english french  biography romance drama   \n",
       "1           111.0  (canada) english french  biography romance drama   \n",
       "2           111.0  (canada) english french  biography romance drama   \n",
       "3           111.0  (canada) english french  biography romance drama   \n",
       "4           111.0  (canada) english french  biography romance drama   \n",
       "\n",
       "                         director      reviewerName  isFrequentReviewer  \\\n",
       "0  MichelleRainey DessieGilchrist  Stephanie Arnold                   0   \n",
       "1  MichelleRainey DessieGilchrist  Suzanne Davidson                   1   \n",
       "2  MichelleRainey DessieGilchrist     David Allison                   1   \n",
       "3  MichelleRainey DessieGilchrist   Kenneth Nichols                   0   \n",
       "4  MichelleRainey DessieGilchrist     Andrew Kramer                   0   \n",
       "\n",
       "                                          reviewText  sentiment  \\\n",
       "0  Shine intermittently, especially for its cast ...          1   \n",
       "1  As in Destin Daniel Cretton's previous feature...          0   \n",
       "2  It's the rare star-driven crowd pleaser smart ...          1   \n",
       "3  Slickly sanitized, Destin Daniel Cretton's scr...          0   \n",
       "4  Maybe she's weighed down by the big hair but [...          0   \n",
       "\n",
       "                                         cleanedText  \n",
       "0  shine intermittently especially cast especiall...  \n",
       "1  destin daniel crettons previous feature short ...  \n",
       "2  rare stardriven crowd pleaser smart enough pre...  \n",
       "3  slickly sanitized destin daniel crettons scree...  \n",
       "4  maybe weighed down big hair but larson left le...  "
      ]
     },
     "execution_count": 24,
     "metadata": {},
     "output_type": "execute_result"
    }
   ],
   "source": [
    "df.head()"
   ]
  },
  {
   "cell_type": "code",
   "execution_count": 25,
   "id": "2fe61039",
   "metadata": {
    "execution": {
     "iopub.execute_input": "2023-08-31T17:01:06.578878Z",
     "iopub.status.busy": "2023-08-31T17:01:06.578448Z",
     "iopub.status.idle": "2023-08-31T17:01:06.598268Z",
     "shell.execute_reply": "2023-08-31T17:01:06.597296Z"
    },
    "papermill": {
     "duration": 0.06375,
     "end_time": "2023-08-31T17:01:06.600973",
     "exception": false,
     "start_time": "2023-08-31T17:01:06.537223",
     "status": "completed"
    },
    "tags": []
   },
   "outputs": [
    {
     "name": "stdout",
     "output_type": "stream",
     "text": [
      "Correlation for audienceScore with sentiment is 0.32330197829431323\n",
      "Correlation for runtimeMinutes with sentiment is 0.04929838669467201\n",
      "Correlation for isFrequentReviewer with sentiment is -0.05080646901663163\n"
     ]
    }
   ],
   "source": [
    "#Seeing calculation for various numverical and umero categorical columns\n",
    "\n",
    "cols=['audienceScore','runtimeMinutes','isFrequentReviewer']\n",
    "for j in cols:\n",
    "    crf=df[j].corr(df['sentiment'])\n",
    "    print(f\"Correlation for {j} with sentiment is {crf}\")"
   ]
  },
  {
   "cell_type": "markdown",
   "id": "b1fe552a",
   "metadata": {
    "papermill": {
     "duration": 0.035573,
     "end_time": "2023-08-31T17:01:06.675170",
     "exception": false,
     "start_time": "2023-08-31T17:01:06.639597",
     "status": "completed"
    },
    "tags": []
   },
   "source": [
    "**Adding some custom features related to reviews**\n",
    "\n",
    "1. Normal word count: No. of words in review without removing stop words.\n",
    "2. Cleaned word count:No of words in cleaned review text.\n",
    "3. Mean word length: Mean length of words in cleaned text"
   ]
  },
  {
   "cell_type": "code",
   "execution_count": 26,
   "id": "a8f2c14f",
   "metadata": {
    "execution": {
     "iopub.execute_input": "2023-08-31T17:01:06.749873Z",
     "iopub.status.busy": "2023-08-31T17:01:06.749444Z",
     "iopub.status.idle": "2023-08-31T17:01:06.759790Z",
     "shell.execute_reply": "2023-08-31T17:01:06.758985Z"
    },
    "papermill": {
     "duration": 0.05138,
     "end_time": "2023-08-31T17:01:06.762355",
     "exception": false,
     "start_time": "2023-08-31T17:01:06.710975",
     "status": "completed"
    },
    "tags": []
   },
   "outputs": [],
   "source": [
    "#Normal word count\n",
    "def word_count(content):\n",
    "    content=remove_square_brackets(content)\n",
    "    content=remove_punctuation(content)\n",
    "    \n",
    "    return len(content.split())\n",
    "\n",
    "#Number of words in cleaned review\n",
    "def cleaned_word_count(content):\n",
    "    return len(content.split())\n",
    "\n",
    "#Mean word length\n",
    "def mean_word_length(content):\n",
    "    lis=[len(word) for word in content.split()]\n",
    "    if len(lis)==0:\n",
    "        return 0\n",
    "    else:\n",
    "        \n",
    "        return sum(lis)/len(lis)\n",
    "    "
   ]
  },
  {
   "cell_type": "code",
   "execution_count": 27,
   "id": "da51abf0",
   "metadata": {
    "execution": {
     "iopub.execute_input": "2023-08-31T17:01:06.842803Z",
     "iopub.status.busy": "2023-08-31T17:01:06.842395Z",
     "iopub.status.idle": "2023-08-31T17:01:09.399154Z",
     "shell.execute_reply": "2023-08-31T17:01:09.398122Z"
    },
    "papermill": {
     "duration": 2.602737,
     "end_time": "2023-08-31T17:01:09.401531",
     "exception": false,
     "start_time": "2023-08-31T17:01:06.798794",
     "status": "completed"
    },
    "tags": []
   },
   "outputs": [],
   "source": [
    "df['word_count']=df['reviewText'].apply(word_count)\n",
    "df['cw_count']=df['cleanedText'].apply(cleaned_word_count)\n",
    "df['mw_len']=df['cleanedText'].apply(mean_word_length)"
   ]
  },
  {
   "cell_type": "code",
   "execution_count": 28,
   "id": "8ab9e26a",
   "metadata": {
    "execution": {
     "iopub.execute_input": "2023-08-31T17:01:09.457227Z",
     "iopub.status.busy": "2023-08-31T17:01:09.456350Z",
     "iopub.status.idle": "2023-08-31T17:01:09.470606Z",
     "shell.execute_reply": "2023-08-31T17:01:09.469223Z"
    },
    "papermill": {
     "duration": 0.043743,
     "end_time": "2023-08-31T17:01:09.472645",
     "exception": false,
     "start_time": "2023-08-31T17:01:09.428902",
     "status": "completed"
    },
    "tags": []
   },
   "outputs": [
    {
     "name": "stdout",
     "output_type": "stream",
     "text": [
      "Correlation for word_count with sentiment is 0.03538098241057885\n",
      "Correlation for cw_count with sentiment is 0.03658466038709025\n",
      "Correlation for mw_len with sentiment is 0.049386627754427724\n"
     ]
    }
   ],
   "source": [
    "cols=['word_count','cw_count','mw_len']\n",
    "for j in cols:\n",
    "    crf=df[j].corr(df['sentiment'])\n",
    "    print(f\"Correlation for {j} with sentiment is {crf}\")\n"
   ]
  },
  {
   "cell_type": "markdown",
   "id": "3bbed66b",
   "metadata": {
    "papermill": {
     "duration": 0.025875,
     "end_time": "2023-08-31T17:01:09.526334",
     "exception": false,
     "start_time": "2023-08-31T17:01:09.500459",
     "status": "completed"
    },
    "tags": []
   },
   "source": [
    "All of them doesnt seem to add any meaningful info to our analysis"
   ]
  },
  {
   "cell_type": "markdown",
   "id": "33b58b53",
   "metadata": {
    "papermill": {
     "duration": 0.025417,
     "end_time": "2023-08-31T17:01:09.577841",
     "exception": false,
     "start_time": "2023-08-31T17:01:09.552424",
     "status": "completed"
    },
    "tags": []
   },
   "source": [
    "**Calculating polarity based on our corpus**\n",
    "\n",
    "As use of external libraries like nltk or textblob was nto allowed,we wrote a simplified version of polarity calculation based on our data\n"
   ]
  },
  {
   "cell_type": "code",
   "execution_count": 29,
   "id": "5e2b3436",
   "metadata": {
    "execution": {
     "iopub.execute_input": "2023-08-31T17:01:09.630965Z",
     "iopub.status.busy": "2023-08-31T17:01:09.630180Z",
     "iopub.status.idle": "2023-08-31T17:01:29.668836Z",
     "shell.execute_reply": "2023-08-31T17:01:29.667815Z"
    },
    "papermill": {
     "duration": 20.06771,
     "end_time": "2023-08-31T17:01:29.671428",
     "exception": false,
     "start_time": "2023-08-31T17:01:09.603718",
     "status": "completed"
    },
    "tags": []
   },
   "outputs": [],
   "source": [
    "#Finding number of times a word occur in positive review and negative reviews\n",
    "words=dict()\n",
    "for index,value in df.iterrows():\n",
    "    text=value['cleanedText'].split()\n",
    "    for j in text:\n",
    "        if j in words:\n",
    "            if value['sentiment']==1:\n",
    "                words[j][1]+=1\n",
    "            else:\n",
    "                words[j][0]+=1\n",
    "        else:\n",
    "            words[j]={1:0,0:0}\n",
    "            if value['sentiment']==1:\n",
    "                words[j][1]+=1\n",
    "            else:\n",
    "                words[j][0]+=1\n",
    "            \n"
   ]
  },
  {
   "cell_type": "code",
   "execution_count": 30,
   "id": "1cf437ef",
   "metadata": {
    "execution": {
     "iopub.execute_input": "2023-08-31T17:01:29.727577Z",
     "iopub.status.busy": "2023-08-31T17:01:29.726877Z",
     "iopub.status.idle": "2023-08-31T17:02:04.473409Z",
     "shell.execute_reply": "2023-08-31T17:02:04.472286Z"
    },
    "papermill": {
     "duration": 34.777355,
     "end_time": "2023-08-31T17:02:04.475957",
     "exception": false,
     "start_time": "2023-08-31T17:01:29.698602",
     "status": "completed"
    },
    "tags": []
   },
   "outputs": [],
   "source": [
    "df['polarity']=np.nan\n",
    "\n",
    "for index,value in df.iterrows():\n",
    "    pos=0\n",
    "    neg=0\n",
    "    text=value['cleanedText'].split()\n",
    "    for j in text:\n",
    "        neg+=words[j][0]\n",
    "        pos+=words[j][1]\n",
    "    #This formula gives us a number in between -1 and +1 with number close to -1 indicating \n",
    "    # highly negative review and +1 highly positive\n",
    "    polarity_score = round((pos - neg) / max(1, pos + neg),2)\n",
    "    if polarity_score==0:\n",
    "        continue\n",
    "    else:\n",
    "        df.loc[index,'polarity']=polarity_score\n",
    "        \n",
    "\n",
    "df['polarity']=df['polarity'].fillna(round(df['polarity'].mean(),2))"
   ]
  },
  {
   "cell_type": "code",
   "execution_count": 31,
   "id": "0eba665c",
   "metadata": {
    "execution": {
     "iopub.execute_input": "2023-08-31T17:02:04.530152Z",
     "iopub.status.busy": "2023-08-31T17:02:04.529835Z",
     "iopub.status.idle": "2023-08-31T17:02:04.539312Z",
     "shell.execute_reply": "2023-08-31T17:02:04.538283Z"
    },
    "papermill": {
     "duration": 0.037432,
     "end_time": "2023-08-31T17:02:04.541353",
     "exception": false,
     "start_time": "2023-08-31T17:02:04.503921",
     "status": "completed"
    },
    "tags": []
   },
   "outputs": [
    {
     "data": {
      "text/plain": [
       "0.367532939121942"
      ]
     },
     "execution_count": 31,
     "metadata": {},
     "output_type": "execute_result"
    }
   ],
   "source": [
    "df['polarity'].corr(df['sentiment'])"
   ]
  },
  {
   "cell_type": "code",
   "execution_count": 32,
   "id": "7a355268",
   "metadata": {
    "execution": {
     "iopub.execute_input": "2023-08-31T17:02:04.595641Z",
     "iopub.status.busy": "2023-08-31T17:02:04.594767Z",
     "iopub.status.idle": "2023-08-31T17:02:05.187310Z",
     "shell.execute_reply": "2023-08-31T17:02:05.186198Z"
    },
    "papermill": {
     "duration": 0.625131,
     "end_time": "2023-08-31T17:02:05.193659",
     "exception": false,
     "start_time": "2023-08-31T17:02:04.568528",
     "status": "completed"
    },
    "tags": []
   },
   "outputs": [
    {
     "data": {
      "image/png": "[encoded data removed]",
      "text/plain": [
       "<Figure size 640x480 with 1 Axes>"
      ]
     },
     "metadata": {},
     "output_type": "display_data"
    }
   ],
   "source": [
    "'''Polarity in end lead to 1% increase in accuracy on test data so we decided to keep \n",
    "it in the model'''\n",
    "sns.histplot(df['polarity'],bins=100)\n",
    "plt.show()"
   ]
  },
  {
   "cell_type": "code",
   "execution_count": 33,
   "id": "51e27717",
   "metadata": {
    "execution": {
     "iopub.execute_input": "2023-08-31T17:02:05.253148Z",
     "iopub.status.busy": "2023-08-31T17:02:05.252770Z",
     "iopub.status.idle": "2023-08-31T17:02:05.871382Z",
     "shell.execute_reply": "2023-08-31T17:02:05.870395Z"
    },
    "papermill": {
     "duration": 0.648727,
     "end_time": "2023-08-31T17:02:05.873462",
     "exception": false,
     "start_time": "2023-08-31T17:02:05.224735",
     "status": "completed"
    },
    "tags": []
   },
   "outputs": [
    {
     "data": {
      "image/png": "[encoded data removed]",
      "text/plain": [
       "<Figure size 640x480 with 1 Axes>"
      ]
     },
     "metadata": {},
     "output_type": "display_data"
    }
   ],
   "source": [
    "sns.histplot(df['audienceScore'],bins=100)\n",
    "plt.show()"
   ]
  },
  {
   "cell_type": "markdown",
   "id": "19564934",
   "metadata": {
    "papermill": {
     "duration": 0.028047,
     "end_time": "2023-08-31T17:02:05.930239",
     "exception": false,
     "start_time": "2023-08-31T17:02:05.902192",
     "status": "completed"
    },
    "tags": []
   },
   "source": [
    "**Ngram Analysis**\n",
    "\n",
    "In this section we do deep text analysis. Here we will be using ngrams to analyse the text, based on it's sentiment"
   ]
  },
  {
   "cell_type": "code",
   "execution_count": 34,
   "id": "df202bb0",
   "metadata": {
    "execution": {
     "iopub.execute_input": "2023-08-31T17:02:05.983761Z",
     "iopub.status.busy": "2023-08-31T17:02:05.983444Z",
     "iopub.status.idle": "2023-08-31T17:02:06.014172Z",
     "shell.execute_reply": "2023-08-31T17:02:06.013232Z"
    },
    "papermill": {
     "duration": 0.059462,
     "end_time": "2023-08-31T17:02:06.016005",
     "exception": false,
     "start_time": "2023-08-31T17:02:05.956543",
     "status": "completed"
    },
    "tags": []
   },
   "outputs": [],
   "source": [
    "from sklearn.feature_extraction.text import CountVectorizer\n",
    "import matplotlib.pyplot as plt\n",
    "import numpy as np\n",
    "\n",
    "def plotNgrams(documents):\n",
    "    # Create a CountVectorizer instance for unigrams, bigrams, and trigrams\n",
    "    vectorizer_unigrams = CountVectorizer(ngram_range=(1, 1),max_features=10)\n",
    "    vectorizer_bigrams = CountVectorizer(ngram_range=(2, 2),max_features=10)\n",
    "    vectorizer_trigrams = CountVectorizer(ngram_range=(3, 3),max_features=10)\n",
    "\n",
    "    # Transform the documents into document-term matrices\n",
    "    X_unigrams = vectorizer_unigrams.fit_transform(documents)\n",
    "    X_bigrams = vectorizer_bigrams.fit_transform(documents)\n",
    "    X_trigrams = vectorizer_trigrams.fit_transform(documents)\n",
    "\n",
    "    # Get the feature names (words) for each n-gram\n",
    "    words_unigrams = vectorizer_unigrams.get_feature_names_out()\n",
    "    words_bigrams = vectorizer_bigrams.get_feature_names_out()\n",
    "    words_trigrams = vectorizer_trigrams.get_feature_names_out()\n",
    "\n",
    "    # Count the occurrences of each n-gram\n",
    "    counts_unigrams = np.array(X_unigrams.sum(axis=0))[0]\n",
    "    counts_bigrams = np.array(X_bigrams.sum(axis=0))[0]\n",
    "    counts_trigrams = np.array(X_trigrams.sum(axis=0))[0]\n",
    "\n",
    "    # Set plot figure size\n",
    "    fig = plt.figure(figsize=(20, 7))\n",
    "    plt.subplots_adjust(wspace=0.5)\n",
    "\n",
    "    ax = fig.add_subplot(131)\n",
    "    ax.barh(np.arange(len(words_unigrams)), counts_unigrams, align='center', alpha=0.5)\n",
    "    ax.set_title('Unigrams')\n",
    "    plt.yticks(np.arange(len(words_unigrams)), words_unigrams)\n",
    "    plt.xlabel('Count')\n",
    "\n",
    "    ax2 = fig.add_subplot(132)\n",
    "    ax2.barh(np.arange(len(words_bigrams)), counts_bigrams, align='center', alpha=0.5)\n",
    "    ax2.set_title('Bigrams')\n",
    "    plt.yticks(np.arange(len(words_bigrams)), words_bigrams)\n",
    "    plt.xlabel('Count')\n",
    "\n",
    "    ax3 = fig.add_subplot(133)\n",
    "    ax3.barh(np.arange(len(words_trigrams)), counts_trigrams, align='center', alpha=0.5)\n",
    "    ax3.set_title('Trigrams')\n",
    "    plt.yticks(np.arange(len(words_trigrams)), words_trigrams)\n",
    "    plt.xlabel('Count')\n",
    "\n",
    "    plt.show()\n",
    "\n"
   ]
  },
  {
   "cell_type": "code",
   "execution_count": 35,
   "id": "2519c80a",
   "metadata": {
    "execution": {
     "iopub.execute_input": "2023-08-31T17:02:06.070245Z",
     "iopub.status.busy": "2023-08-31T17:02:06.069448Z",
     "iopub.status.idle": "2023-08-31T17:02:06.074100Z",
     "shell.execute_reply": "2023-08-31T17:02:06.073102Z"
    },
    "papermill": {
     "duration": 0.034212,
     "end_time": "2023-08-31T17:02:06.076139",
     "exception": false,
     "start_time": "2023-08-31T17:02:06.041927",
     "status": "completed"
    },
    "tags": []
   },
   "outputs": [],
   "source": [
    "def textTrends(documents):\n",
    "    plotNgrams(documents)"
   ]
  },
  {
   "cell_type": "code",
   "execution_count": 36,
   "id": "db2c67af",
   "metadata": {
    "execution": {
     "iopub.execute_input": "2023-08-31T17:02:06.130017Z",
     "iopub.status.busy": "2023-08-31T17:02:06.129756Z",
     "iopub.status.idle": "2023-08-31T17:02:30.924545Z",
     "shell.execute_reply": "2023-08-31T17:02:30.923383Z"
    },
    "papermill": {
     "duration": 24.824411,
     "end_time": "2023-08-31T17:02:30.926726",
     "exception": false,
     "start_time": "2023-08-31T17:02:06.102315",
     "status": "completed"
    },
    "tags": []
   },
   "outputs": [
    {
     "data": {
      "image/png": "[encoded data removed]",
      "text/plain": [
       "<Figure size 2000x700 with 3 Axes>"
      ]
     },
     "metadata": {},
     "output_type": "display_data"
    }
   ],
   "source": [
    "textTrends(df['cleanedText'])"
   ]
  },
  {
   "cell_type": "markdown",
   "id": "d4cb8df5",
   "metadata": {
    "papermill": {
     "duration": 0.029573,
     "end_time": "2023-08-31T17:02:30.983609",
     "exception": false,
     "start_time": "2023-08-31T17:02:30.954036",
     "status": "completed"
    },
    "tags": []
   },
   "source": [
    "In further analysis it was found that **genre,originalLanguage,word_count,mw_len,cw_count and runtimeMinutes** also dont contribute much and lead to overfit therefore removing them as well"
   ]
  },
  {
   "cell_type": "code",
   "execution_count": 37,
   "id": "acbb62d6",
   "metadata": {
    "execution": {
     "iopub.execute_input": "2023-08-31T17:02:31.040435Z",
     "iopub.status.busy": "2023-08-31T17:02:31.040081Z",
     "iopub.status.idle": "2023-08-31T17:02:31.075413Z",
     "shell.execute_reply": "2023-08-31T17:02:31.074452Z"
    },
    "papermill": {
     "duration": 0.066752,
     "end_time": "2023-08-31T17:02:31.077700",
     "exception": false,
     "start_time": "2023-08-31T17:02:31.010948",
     "status": "completed"
    },
    "tags": []
   },
   "outputs": [],
   "source": [
    "df=df.drop(columns=['genre','originalLanguage','runtimeMinutes',\n",
    "                    'word_count','cw_count','mw_len'])"
   ]
  },
  {
   "cell_type": "markdown",
   "id": "c34f3488",
   "metadata": {
    "papermill": {
     "duration": 0.027536,
     "end_time": "2023-08-31T17:02:31.133743",
     "exception": false,
     "start_time": "2023-08-31T17:02:31.106207",
     "status": "completed"
    },
    "tags": []
   },
   "source": [
    "# **Encoding and Splitting Data**"
   ]
  },
  {
   "cell_type": "markdown",
   "id": "5990484a",
   "metadata": {
    "papermill": {
     "duration": 0.026522,
     "end_time": "2023-08-31T17:02:31.186885",
     "exception": false,
     "start_time": "2023-08-31T17:02:31.160363",
     "status": "completed"
    },
    "tags": []
   },
   "source": [
    "**Now its time to encode and split data**\n",
    "\n",
    "1. For **reviewText** we have used CountVectorizer rather than TfidfVectorizer and it gave on an avg. **1.5%** better accuracy than Tfidf.We will initially select 5 Lakh features from are ngrams out of 28 Lakh.After this we use **chi square** and **MI** test along with **SelectKBest** to select 250000 top features.In the end manually slecting top 250000 features from our review text vecotrs gave best result. \n",
    "\n",
    "2. For Scaling we are using MinMaxScaler."
   ]
  },
  {
   "cell_type": "code",
   "execution_count": 38,
   "id": "dc0d84cb",
   "metadata": {
    "execution": {
     "iopub.execute_input": "2023-08-31T17:02:31.242209Z",
     "iopub.status.busy": "2023-08-31T17:02:31.241875Z",
     "iopub.status.idle": "2023-08-31T17:02:31.253810Z",
     "shell.execute_reply": "2023-08-31T17:02:31.252503Z"
    },
    "papermill": {
     "duration": 0.042144,
     "end_time": "2023-08-31T17:02:31.255960",
     "exception": false,
     "start_time": "2023-08-31T17:02:31.213816",
     "status": "completed"
    },
    "tags": []
   },
   "outputs": [],
   "source": [
    "from sklearn.feature_extraction.text import TfidfVectorizer, CountVectorizer\n",
    "from sklearn.preprocessing import MinMaxScaler,OneHotEncoder\n",
    "from sklearn.model_selection import train_test_split\n",
    "from scipy.sparse import hstack,csr_matrix\n",
    "import numpy as np\n",
    "\n",
    "\n",
    "\n",
    "def preprocess_df(df,mf):\n",
    "    global scale_score\n",
    "    global scale_pol\n",
    "    global encode\n",
    "    global encode_movie\n",
    "    global vectorizer3\n",
    "    global vectorizer5\n",
    "    global matrix5\n",
    "            \n",
    "    encode= OneHotEncoder(handle_unknown='ignore')\n",
    "    encode_movie = OneHotEncoder(handle_unknown='ignore')\n",
    "    scale_pol = MinMaxScaler()\n",
    "    scale_score = MinMaxScaler()\n",
    "    vectorizer3 = CountVectorizer(preprocessor=data_cleaning)\n",
    "    vectorizer5 = CountVectorizer(preprocessor=data_cleaning,ngram_range=(1,3),max_features=mf)\n",
    "\n",
    "    freq=np.array(df['isFrequentReviewer']).reshape( df.shape[0],1)\n",
    "    \n",
    "    score=scale_score.fit_transform(np.array(df['audienceScore']).reshape(-1,1)).astype(np.float16)\n",
    "    \n",
    "    polarity=scale_pol.fit_transform(np.array(df['polarity']).reshape(-1,1)).astype(np.float16)\n",
    "    \n",
    "    matrix3=vectorizer3.fit_transform(df['director']).astype(np.float16)\n",
    "    \n",
    "    matrix5=vectorizer5.fit_transform(df['reviewText']).astype(np.float16)\n",
    "    \n",
    "    names=encode.fit_transform(np.array(df['reviewerName']).reshape(-1,1)).astype(np.float16)\n",
    "    \n",
    "    movies=encode_movie.fit_transform(np.array(df['title']).reshape(-1,1)).astype(np.float16)\n",
    "    \n",
    "    stack=hstack((freq,score,polarity,matrix3,movies,names,matrix5)).astype(np.float16)\n",
    "    \n",
    "    y=df['sentiment'].astype(np.float16)\n",
    "    \n",
    "    return stack,y\n"
   ]
  },
  {
   "cell_type": "code",
   "execution_count": 39,
   "id": "512d386f",
   "metadata": {
    "execution": {
     "iopub.execute_input": "2023-08-31T17:02:31.312971Z",
     "iopub.status.busy": "2023-08-31T17:02:31.312186Z",
     "iopub.status.idle": "2023-08-31T17:03:05.000661Z",
     "shell.execute_reply": "2023-08-31T17:03:04.999597Z"
    },
    "papermill": {
     "duration": 33.719783,
     "end_time": "2023-08-31T17:03:05.003238",
     "exception": false,
     "start_time": "2023-08-31T17:02:31.283455",
     "status": "completed"
    },
    "tags": []
   },
   "outputs": [],
   "source": [
    "stack,y=preprocess_df(df,250000)\n",
    "X_train, X_test, y_train, y_test=train_test_split(stack,y,test_size=0.2, random_state=42)"
   ]
  },
  {
   "cell_type": "markdown",
   "id": "a931c2ed",
   "metadata": {
    "papermill": {
     "duration": 0.02838,
     "end_time": "2023-08-31T17:03:05.059915",
     "exception": false,
     "start_time": "2023-08-31T17:03:05.031535",
     "status": "completed"
    },
    "tags": []
   },
   "source": [
    "# **Feature Selection**\n",
    "\n",
    "We tried chi2,mutual_info_classif test for feature selection but ultimately manually selecting 250000 features from **reviewText** vectorizer and taking rest of all features gave best results "
   ]
  },
  {
   "cell_type": "code",
   "execution_count": 40,
   "id": "6020058a",
   "metadata": {
    "execution": {
     "iopub.execute_input": "2023-08-31T17:03:05.118121Z",
     "iopub.status.busy": "2023-08-31T17:03:05.117779Z",
     "iopub.status.idle": "2023-08-31T17:03:05.124676Z",
     "shell.execute_reply": "2023-08-31T17:03:05.123701Z"
    },
    "papermill": {
     "duration": 0.039915,
     "end_time": "2023-08-31T17:03:05.127827",
     "exception": false,
     "start_time": "2023-08-31T17:03:05.087912",
     "status": "completed"
    },
    "tags": []
   },
   "outputs": [
    {
     "data": {
      "text/plain": [
       "'\\nfrom sklearn.feature_selection import SelectKBest\\nfrom sklearn.feature_selection import f_classif,chi2, mutual_info_classif\\n\\nk = 250000 \\nfeatures = SelectKBest(mutual_info_classif, k=k)\\nX_train = features.fit_transform(X_train, y_train)\\n\\nselected_features_mask = features.get_support()\\nselected_feature_indices = np.where(selected_features_mask)[0]\\n\\nprint(\"Selected feature indices:\")\\nselected_feature_indices\\n\\nX_test = features.transform(X_test)\\n\\n'"
      ]
     },
     "execution_count": 40,
     "metadata": {},
     "output_type": "execute_result"
    }
   ],
   "source": [
    "#Code for feature selection based upon chi2 or mutual_info_classif\n",
    "'''\n",
    "from sklearn.feature_selection import SelectKBest\n",
    "from sklearn.feature_selection import f_classif,chi2, mutual_info_classif\n",
    "\n",
    "k = 250000 \n",
    "features = SelectKBest(mutual_info_classif, k=k)\n",
    "X_train = features.fit_transform(X_train, y_train)\n",
    "\n",
    "selected_features_mask = features.get_support()\n",
    "selected_feature_indices = np.where(selected_features_mask)[0]\n",
    "\n",
    "print(\"Selected feature indices:\")\n",
    "selected_feature_indices\n",
    "\n",
    "X_test = features.transform(X_test)\n",
    "\n",
    "'''"
   ]
  },
  {
   "cell_type": "markdown",
   "id": "106b74fc",
   "metadata": {
    "papermill": {
     "duration": 0.02766,
     "end_time": "2023-08-31T17:03:05.182291",
     "exception": false,
     "start_time": "2023-08-31T17:03:05.154631",
     "status": "completed"
    },
    "tags": []
   },
   "source": [
    "# **Fitting Models**\n",
    "\n",
    "We are using SVM with linear kernel,Logistic regression and Bernoulli Naive Bayes as our primary models.Other than them XGBoost classifier is also fitted.Hyperparameter tuning is shown for 3 primary models.\n",
    "\n",
    " We will store all models and their accuracy in a list named **models**"
   ]
  },
  {
   "cell_type": "code",
   "execution_count": 41,
   "id": "dd5313fc",
   "metadata": {
    "execution": {
     "iopub.execute_input": "2023-08-31T17:03:05.244700Z",
     "iopub.status.busy": "2023-08-31T17:03:05.244396Z",
     "iopub.status.idle": "2023-08-31T17:03:05.248997Z",
     "shell.execute_reply": "2023-08-31T17:03:05.247824Z"
    },
    "papermill": {
     "duration": 0.035268,
     "end_time": "2023-08-31T17:03:05.251648",
     "exception": false,
     "start_time": "2023-08-31T17:03:05.216380",
     "status": "completed"
    },
    "tags": []
   },
   "outputs": [],
   "source": [
    "models=[]"
   ]
  },
  {
   "cell_type": "markdown",
   "id": "f03a224d",
   "metadata": {
    "papermill": {
     "duration": 0.027449,
     "end_time": "2023-08-31T17:03:05.306723",
     "exception": false,
     "start_time": "2023-08-31T17:03:05.279274",
     "status": "completed"
    },
    "tags": []
   },
   "source": [
    " # 1. Logistic Regression"
   ]
  },
  {
   "cell_type": "code",
   "execution_count": 42,
   "id": "c1041933",
   "metadata": {
    "execution": {
     "iopub.execute_input": "2023-08-31T17:03:05.363665Z",
     "iopub.status.busy": "2023-08-31T17:03:05.363378Z",
     "iopub.status.idle": "2023-08-31T17:44:45.728977Z",
     "shell.execute_reply": "2023-08-31T17:44:45.727656Z"
    },
    "papermill": {
     "duration": 2500.471717,
     "end_time": "2023-08-31T17:44:45.806855",
     "exception": false,
     "start_time": "2023-08-31T17:03:05.335138",
     "status": "completed"
    },
    "tags": []
   },
   "outputs": [
    {
     "name": "stdout",
     "output_type": "stream",
     "text": [
      "              precision    recall  f1-score   support\n",
      "\n",
      "         0.0       0.78      0.71      0.74     10837\n",
      "         1.0       0.86      0.90      0.88     21715\n",
      "\n",
      "    accuracy                           0.84     32552\n",
      "   macro avg       0.82      0.80      0.81     32552\n",
      "weighted avg       0.83      0.84      0.83     32552\n",
      "\n",
      "{'tol': 0.001, 'max_iter': 1000, 'C': 1}\n"
     ]
    }
   ],
   "source": [
    "#LOGISTIC REGRESSION HP TUNING\n",
    "warnings.filterwarnings(\"ignore\")\n",
    "from sklearn.linear_model import LogisticRegression\n",
    "\n",
    "#Using liblinear solver as its much faster than lbfgs for our dataset\n",
    "lr = LogisticRegression(penalty='l2',solver='liblinear',random_state=42)\n",
    "\n",
    "\n",
    "param_distributions = {\n",
    "    'C':[1,0.1,0.001,0.0001,100,1000],\n",
    "    'max_iter':[1000, 2000,3000,4000],\n",
    "    'tol':[0.1,0.001,0.0001,0.00001]\n",
    "}\n",
    "\n",
    "\n",
    "random_search = RandomizedSearchCV(\n",
    "    estimator=lr,\n",
    "    param_distributions=param_distributions,\n",
    "    n_iter=100,  \n",
    "    cv=5,       \n",
    "    random_state=42,\n",
    "    n_jobs=-1   \n",
    ")\n",
    "\n",
    "random_search.fit(X_train, y_train)\n",
    "\n",
    "best_params = random_search.best_params_\n",
    "lr = random_search.best_estimator_\n",
    "\n",
    "pred_lg = lr.predict(X_test)\n",
    "acc=lr.score(X_test,y_test)\n",
    "models.append(('Logistic',lr,acc))\n",
    "    \n",
    "print(classification_report(y_test,pred_lg))\n",
    "print(best_params)"
   ]
  },
  {
   "cell_type": "markdown",
   "id": "dfff7f86",
   "metadata": {
    "papermill": {
     "duration": 0.026781,
     "end_time": "2023-08-31T17:44:45.861964",
     "exception": false,
     "start_time": "2023-08-31T17:44:45.835183",
     "status": "completed"
    },
    "tags": []
   },
   "source": [
    "**PR Curve and Confusion Matrix for logistic model**"
   ]
  },
  {
   "cell_type": "code",
   "execution_count": 43,
   "id": "296e7091",
   "metadata": {
    "execution": {
     "iopub.execute_input": "2023-08-31T17:44:45.921711Z",
     "iopub.status.busy": "2023-08-31T17:44:45.920580Z",
     "iopub.status.idle": "2023-08-31T17:44:46.240906Z",
     "shell.execute_reply": "2023-08-31T17:44:46.239979Z"
    },
    "papermill": {
     "duration": 0.353012,
     "end_time": "2023-08-31T17:44:46.243102",
     "exception": false,
     "start_time": "2023-08-31T17:44:45.890090",
     "status": "completed"
    },
    "tags": []
   },
   "outputs": [
    {
     "data": {
      "image/png": "[encoded data removed]",
      "text/plain": [
       "<Figure size 640x480 with 1 Axes>"
      ]
     },
     "metadata": {},
     "output_type": "display_data"
    }
   ],
   "source": [
    "from sklearn.metrics import precision_recall_curve, auc\n",
    "y_probs = lr.predict_proba(X_test)[:, 1]\n",
    "\n",
    "# Calculate precision-recall curve values\n",
    "precision, recall, _ = precision_recall_curve(y_test, y_probs)\n",
    "\n",
    "# Calculate area under the curve (AUC) for precision-recall curve\n",
    "auc_score = auc(recall, precision)\n",
    "\n",
    "# Plot the precision-recall curve\n",
    "plt.figure()\n",
    "plt.plot(recall, precision, color='blue', label='Precision-Recall curve (AUC = %0.2f)' % auc_score)\n",
    "plt.xlabel('Recall')\n",
    "plt.ylabel('Precision')\n",
    "plt.title('Precision-Recall Curve for Logistic Regression')\n",
    "plt.legend(loc='lower left')\n",
    "plt.show()"
   ]
  },
  {
   "cell_type": "code",
   "execution_count": 44,
   "id": "fd85bb43",
   "metadata": {
    "execution": {
     "iopub.execute_input": "2023-08-31T17:44:46.302457Z",
     "iopub.status.busy": "2023-08-31T17:44:46.301650Z",
     "iopub.status.idle": "2023-08-31T17:44:46.682867Z",
     "shell.execute_reply": "2023-08-31T17:44:46.681960Z"
    },
    "papermill": {
     "duration": 0.412676,
     "end_time": "2023-08-31T17:44:46.685073",
     "exception": false,
     "start_time": "2023-08-31T17:44:46.272397",
     "status": "completed"
    },
    "tags": []
   },
   "outputs": [
    {
     "data": {
      "text/plain": [
       "<Figure size 640x480 with 0 Axes>"
      ]
     },
     "metadata": {},
     "output_type": "display_data"
    },
    {
     "data": {
      "image/png": "[encoded data removed]",
      "text/plain": [
       "<Figure size 640x480 with 2 Axes>"
      ]
     },
     "metadata": {},
     "output_type": "display_data"
    }
   ],
   "source": [
    "plt.figure()\n",
    "cm = confusion_matrix(y_test, pred_lg)\n",
    "disp = ConfusionMatrixDisplay(confusion_matrix=cm, display_labels=['Positive', 'Negative'])\n",
    "disp.plot(cmap=plt.cm.Blues, values_format='d')\n",
    "plt.title('Confusion Matrix')\n",
    "\n",
    "plt.tight_layout()\n",
    "plt.show()"
   ]
  },
  {
   "cell_type": "markdown",
   "id": "b979d801",
   "metadata": {
    "papermill": {
     "duration": 0.028015,
     "end_time": "2023-08-31T17:44:46.741807",
     "exception": false,
     "start_time": "2023-08-31T17:44:46.713792",
     "status": "completed"
    },
    "tags": []
   },
   "source": [
    "# 2. Bernoulli Naive Bayes  "
   ]
  },
  {
   "cell_type": "code",
   "execution_count": 45,
   "id": "a956b3da",
   "metadata": {
    "execution": {
     "iopub.execute_input": "2023-08-31T17:44:46.799516Z",
     "iopub.status.busy": "2023-08-31T17:44:46.799176Z",
     "iopub.status.idle": "2023-08-31T17:45:52.505422Z",
     "shell.execute_reply": "2023-08-31T17:45:52.504331Z"
    },
    "papermill": {
     "duration": 65.76707,
     "end_time": "2023-08-31T17:45:52.536896",
     "exception": false,
     "start_time": "2023-08-31T17:44:46.769826",
     "status": "completed"
    },
    "tags": []
   },
   "outputs": [
    {
     "name": "stdout",
     "output_type": "stream",
     "text": [
      "              precision    recall  f1-score   support\n",
      "\n",
      "         0.0       0.71      0.75      0.73     10837\n",
      "         1.0       0.87      0.85      0.86     21715\n",
      "\n",
      "    accuracy                           0.82     32552\n",
      "   macro avg       0.79      0.80      0.80     32552\n",
      "weighted avg       0.82      0.82      0.82     32552\n",
      "\n",
      "{'fit_prior': True, 'alpha': 0.572236765935022}\n"
     ]
    }
   ],
   "source": [
    "from sklearn.naive_bayes import BernoulliNB\n",
    "\n",
    "\n",
    "nb = BernoulliNB()\n",
    "\n",
    "\n",
    "param_dist = {\n",
    "    'alpha': np.logspace(-6, 0, 100), \n",
    "    'fit_prior': [True, False]\n",
    "}\n",
    "\n",
    "random_search = RandomizedSearchCV(nb, param_distributions=param_dist, n_iter=100, scoring='accuracy', cv=5, random_state=42)\n",
    "\n",
    "random_search.fit(X_train, y_train)\n",
    "\n",
    "\n",
    "best_params = random_search.best_params_\n",
    "nb = random_search.best_estimator_\n",
    "\n",
    "\n",
    "acc = nb.score(X_test, y_test)\n",
    "models.append(('Naive Bayes',nb,acc))\n",
    "pred_nb = nb.predict(X_test)\n",
    "print(classification_report(y_test,pred_nb))\n",
    "print(best_params)"
   ]
  },
  {
   "cell_type": "markdown",
   "id": "3a7af850",
   "metadata": {
    "papermill": {
     "duration": 0.027876,
     "end_time": "2023-08-31T17:45:52.593297",
     "exception": false,
     "start_time": "2023-08-31T17:45:52.565421",
     "status": "completed"
    },
    "tags": []
   },
   "source": [
    "**PR Curve and confusion matrix for Bernoulli Naive Bayes**"
   ]
  },
  {
   "cell_type": "code",
   "execution_count": 46,
   "id": "ef490547",
   "metadata": {
    "execution": {
     "iopub.execute_input": "2023-08-31T17:45:52.651495Z",
     "iopub.status.busy": "2023-08-31T17:45:52.650878Z",
     "iopub.status.idle": "2023-08-31T17:45:52.983841Z",
     "shell.execute_reply": "2023-08-31T17:45:52.982952Z"
    },
    "papermill": {
     "duration": 0.364847,
     "end_time": "2023-08-31T17:45:52.985946",
     "exception": false,
     "start_time": "2023-08-31T17:45:52.621099",
     "status": "completed"
    },
    "tags": []
   },
   "outputs": [
    {
     "data": {
      "image/png": "[encoded data removed]",
      "text/plain": [
       "<Figure size 640x480 with 1 Axes>"
      ]
     },
     "metadata": {},
     "output_type": "display_data"
    }
   ],
   "source": [
    "from sklearn.metrics import precision_recall_curve, auc\n",
    "y_probs = nb.predict_proba(X_test)[:, 1]\n",
    "\n",
    "# Calculate precision-recall curve values\n",
    "precision, recall, _ = precision_recall_curve(y_test, y_probs)\n",
    "\n",
    "# Calculate area under the curve (AUC) for precision-recall curve\n",
    "auc_score = auc(recall, precision)\n",
    "\n",
    "# Plot the precision-recall curve\n",
    "plt.figure()\n",
    "plt.plot(recall, precision, color='blue', label='Precision-Recall curve (AUC = %0.2f)' % auc_score)\n",
    "plt.xlabel('Recall')\n",
    "plt.ylabel('Precision')\n",
    "plt.title('Precision-Recall Curve for Bernoulli Naive Bayes')\n",
    "plt.legend(loc='lower left')\n",
    "plt.show()"
   ]
  },
  {
   "cell_type": "code",
   "execution_count": 47,
   "id": "a56c70e4",
   "metadata": {
    "execution": {
     "iopub.execute_input": "2023-08-31T17:45:53.045821Z",
     "iopub.status.busy": "2023-08-31T17:45:53.044946Z",
     "iopub.status.idle": "2023-08-31T17:45:53.432803Z",
     "shell.execute_reply": "2023-08-31T17:45:53.431840Z"
    },
    "papermill": {
     "duration": 0.419868,
     "end_time": "2023-08-31T17:45:53.435178",
     "exception": false,
     "start_time": "2023-08-31T17:45:53.015310",
     "status": "completed"
    },
    "tags": []
   },
   "outputs": [
    {
     "data": {
      "text/plain": [
       "<Figure size 640x480 with 0 Axes>"
      ]
     },
     "metadata": {},
     "output_type": "display_data"
    },
    {
     "data": {
      "image/png": "[encoded data removed]",
      "text/plain": [
       "<Figure size 640x480 with 2 Axes>"
      ]
     },
     "metadata": {},
     "output_type": "display_data"
    }
   ],
   "source": [
    "plt.figure()\n",
    "cm = confusion_matrix(y_test, pred_nb)\n",
    "disp = ConfusionMatrixDisplay(confusion_matrix=cm, display_labels=['Positive', 'Negative'])\n",
    "disp.plot(cmap=plt.cm.Blues, values_format='d')\n",
    "plt.title('Confusion Matrix')\n",
    "\n",
    "plt.tight_layout()\n",
    "plt.show()"
   ]
  },
  {
   "cell_type": "markdown",
   "id": "fd757b5b",
   "metadata": {
    "papermill": {
     "duration": 0.029399,
     "end_time": "2023-08-31T17:45:53.495333",
     "exception": false,
     "start_time": "2023-08-31T17:45:53.465934",
     "status": "completed"
    },
    "tags": []
   },
   "source": [
    "# 3. Linear SVM\n",
    "\n",
    "We earlier fitted SVM(SVC) on datset with Hyperparameter tuning.It gave linear kernel as te one giving best results therefore we have fitted that now with LinearSVC which is a faste implementation of linear kernel SVM."
   ]
  },
  {
   "cell_type": "code",
   "execution_count": 48,
   "id": "a8cfc5b6",
   "metadata": {
    "execution": {
     "iopub.execute_input": "2023-08-31T17:45:53.555391Z",
     "iopub.status.busy": "2023-08-31T17:45:53.555040Z",
     "iopub.status.idle": "2023-08-31T18:21:26.494561Z",
     "shell.execute_reply": "2023-08-31T18:21:26.492293Z"
    },
    "papermill": {
     "duration": 2132.972442,
     "end_time": "2023-08-31T18:21:26.496978",
     "exception": false,
     "start_time": "2023-08-31T17:45:53.524536",
     "status": "completed"
    },
    "tags": []
   },
   "outputs": [
    {
     "name": "stderr",
     "output_type": "stream",
     "text": [
      "/opt/conda/lib/python3.10/site-packages/sklearn/svm/_base.py:1244: ConvergenceWarning: Liblinear failed to converge, increase the number of iterations.\n",
      "  warnings.warn(\n",
      "/opt/conda/lib/python3.10/site-packages/sklearn/svm/_base.py:1244: ConvergenceWarning: Liblinear failed to converge, increase the number of iterations.\n",
      "  warnings.warn(\n",
      "/opt/conda/lib/python3.10/site-packages/sklearn/svm/_base.py:1244: ConvergenceWarning: Liblinear failed to converge, increase the number of iterations.\n",
      "  warnings.warn(\n",
      "/opt/conda/lib/python3.10/site-packages/sklearn/svm/_base.py:1244: ConvergenceWarning: Liblinear failed to converge, increase the number of iterations.\n",
      "  warnings.warn(\n",
      "/opt/conda/lib/python3.10/site-packages/sklearn/svm/_base.py:1244: ConvergenceWarning: Liblinear failed to converge, increase the number of iterations.\n",
      "  warnings.warn(\n",
      "/opt/conda/lib/python3.10/site-packages/sklearn/svm/_base.py:1244: ConvergenceWarning: Liblinear failed to converge, increase the number of iterations.\n",
      "  warnings.warn(\n",
      "/opt/conda/lib/python3.10/site-packages/sklearn/svm/_base.py:1244: ConvergenceWarning: Liblinear failed to converge, increase the number of iterations.\n",
      "  warnings.warn(\n",
      "/opt/conda/lib/python3.10/site-packages/sklearn/svm/_base.py:1244: ConvergenceWarning: Liblinear failed to converge, increase the number of iterations.\n",
      "  warnings.warn(\n",
      "/opt/conda/lib/python3.10/site-packages/sklearn/svm/_base.py:1244: ConvergenceWarning: Liblinear failed to converge, increase the number of iterations.\n",
      "  warnings.warn(\n",
      "/opt/conda/lib/python3.10/site-packages/sklearn/svm/_base.py:1244: ConvergenceWarning: Liblinear failed to converge, increase the number of iterations.\n",
      "  warnings.warn(\n",
      "/opt/conda/lib/python3.10/site-packages/sklearn/svm/_base.py:1244: ConvergenceWarning: Liblinear failed to converge, increase the number of iterations.\n",
      "  warnings.warn(\n",
      "/opt/conda/lib/python3.10/site-packages/sklearn/svm/_base.py:1244: ConvergenceWarning: Liblinear failed to converge, increase the number of iterations.\n",
      "  warnings.warn(\n",
      "/opt/conda/lib/python3.10/site-packages/sklearn/svm/_base.py:1244: ConvergenceWarning: Liblinear failed to converge, increase the number of iterations.\n",
      "  warnings.warn(\n",
      "/opt/conda/lib/python3.10/site-packages/sklearn/svm/_base.py:1244: ConvergenceWarning: Liblinear failed to converge, increase the number of iterations.\n",
      "  warnings.warn(\n",
      "/opt/conda/lib/python3.10/site-packages/sklearn/svm/_base.py:1244: ConvergenceWarning: Liblinear failed to converge, increase the number of iterations.\n",
      "  warnings.warn(\n",
      "/opt/conda/lib/python3.10/site-packages/sklearn/svm/_base.py:1244: ConvergenceWarning: Liblinear failed to converge, increase the number of iterations.\n",
      "  warnings.warn(\n",
      "/opt/conda/lib/python3.10/site-packages/sklearn/svm/_base.py:1244: ConvergenceWarning: Liblinear failed to converge, increase the number of iterations.\n",
      "  warnings.warn(\n",
      "/opt/conda/lib/python3.10/site-packages/sklearn/svm/_base.py:1244: ConvergenceWarning: Liblinear failed to converge, increase the number of iterations.\n",
      "  warnings.warn(\n",
      "/opt/conda/lib/python3.10/site-packages/sklearn/svm/_base.py:1244: ConvergenceWarning: Liblinear failed to converge, increase the number of iterations.\n",
      "  warnings.warn(\n",
      "/opt/conda/lib/python3.10/site-packages/sklearn/svm/_base.py:1244: ConvergenceWarning: Liblinear failed to converge, increase the number of iterations.\n",
      "  warnings.warn(\n",
      "/opt/conda/lib/python3.10/site-packages/sklearn/svm/_base.py:1244: ConvergenceWarning: Liblinear failed to converge, increase the number of iterations.\n",
      "  warnings.warn(\n",
      "/opt/conda/lib/python3.10/site-packages/sklearn/svm/_base.py:1244: ConvergenceWarning: Liblinear failed to converge, increase the number of iterations.\n",
      "  warnings.warn(\n",
      "/opt/conda/lib/python3.10/site-packages/sklearn/svm/_base.py:1244: ConvergenceWarning: Liblinear failed to converge, increase the number of iterations.\n",
      "  warnings.warn(\n",
      "/opt/conda/lib/python3.10/site-packages/sklearn/svm/_base.py:1244: ConvergenceWarning: Liblinear failed to converge, increase the number of iterations.\n",
      "  warnings.warn(\n",
      "/opt/conda/lib/python3.10/site-packages/sklearn/svm/_base.py:1244: ConvergenceWarning: Liblinear failed to converge, increase the number of iterations.\n",
      "  warnings.warn(\n",
      "/opt/conda/lib/python3.10/site-packages/sklearn/svm/_base.py:1244: ConvergenceWarning: Liblinear failed to converge, increase the number of iterations.\n",
      "  warnings.warn(\n",
      "/opt/conda/lib/python3.10/site-packages/sklearn/svm/_base.py:1244: ConvergenceWarning: Liblinear failed to converge, increase the number of iterations.\n",
      "  warnings.warn(\n",
      "/opt/conda/lib/python3.10/site-packages/sklearn/svm/_base.py:1244: ConvergenceWarning: Liblinear failed to converge, increase the number of iterations.\n",
      "  warnings.warn(\n",
      "/opt/conda/lib/python3.10/site-packages/sklearn/svm/_base.py:1244: ConvergenceWarning: Liblinear failed to converge, increase the number of iterations.\n",
      "  warnings.warn(\n",
      "/opt/conda/lib/python3.10/site-packages/sklearn/svm/_base.py:1244: ConvergenceWarning: Liblinear failed to converge, increase the number of iterations.\n",
      "  warnings.warn(\n",
      "/opt/conda/lib/python3.10/site-packages/sklearn/svm/_base.py:1244: ConvergenceWarning: Liblinear failed to converge, increase the number of iterations.\n",
      "  warnings.warn(\n",
      "/opt/conda/lib/python3.10/site-packages/sklearn/svm/_base.py:1244: ConvergenceWarning: Liblinear failed to converge, increase the number of iterations.\n",
      "  warnings.warn(\n",
      "/opt/conda/lib/python3.10/site-packages/sklearn/svm/_base.py:1244: ConvergenceWarning: Liblinear failed to converge, increase the number of iterations.\n",
      "  warnings.warn(\n",
      "/opt/conda/lib/python3.10/site-packages/sklearn/svm/_base.py:1244: ConvergenceWarning: Liblinear failed to converge, increase the number of iterations.\n",
      "  warnings.warn(\n",
      "/opt/conda/lib/python3.10/site-packages/sklearn/svm/_base.py:1244: ConvergenceWarning: Liblinear failed to converge, increase the number of iterations.\n",
      "  warnings.warn(\n",
      "/opt/conda/lib/python3.10/site-packages/sklearn/svm/_base.py:1244: ConvergenceWarning: Liblinear failed to converge, increase the number of iterations.\n",
      "  warnings.warn(\n",
      "/opt/conda/lib/python3.10/site-packages/sklearn/svm/_base.py:1244: ConvergenceWarning: Liblinear failed to converge, increase the number of iterations.\n",
      "  warnings.warn(\n",
      "/opt/conda/lib/python3.10/site-packages/sklearn/svm/_base.py:1244: ConvergenceWarning: Liblinear failed to converge, increase the number of iterations.\n",
      "  warnings.warn(\n",
      "/opt/conda/lib/python3.10/site-packages/sklearn/svm/_base.py:1244: ConvergenceWarning: Liblinear failed to converge, increase the number of iterations.\n",
      "  warnings.warn(\n",
      "/opt/conda/lib/python3.10/site-packages/sklearn/svm/_base.py:1244: ConvergenceWarning: Liblinear failed to converge, increase the number of iterations.\n",
      "  warnings.warn(\n",
      "/opt/conda/lib/python3.10/site-packages/sklearn/svm/_base.py:1244: ConvergenceWarning: Liblinear failed to converge, increase the number of iterations.\n",
      "  warnings.warn(\n",
      "/opt/conda/lib/python3.10/site-packages/sklearn/svm/_base.py:1244: ConvergenceWarning: Liblinear failed to converge, increase the number of iterations.\n",
      "  warnings.warn(\n",
      "/opt/conda/lib/python3.10/site-packages/sklearn/svm/_base.py:1244: ConvergenceWarning: Liblinear failed to converge, increase the number of iterations.\n",
      "  warnings.warn(\n",
      "/opt/conda/lib/python3.10/site-packages/sklearn/svm/_base.py:1244: ConvergenceWarning: Liblinear failed to converge, increase the number of iterations.\n",
      "  warnings.warn(\n",
      "/opt/conda/lib/python3.10/site-packages/sklearn/svm/_base.py:1244: ConvergenceWarning: Liblinear failed to converge, increase the number of iterations.\n",
      "  warnings.warn(\n"
     ]
    },
    {
     "name": "stdout",
     "output_type": "stream",
     "text": [
      "              precision    recall  f1-score   support\n",
      "\n",
      "         0.0       0.80      0.67      0.73     10837\n",
      "         1.0       0.85      0.92      0.88     21715\n",
      "\n",
      "    accuracy                           0.84     32552\n",
      "   macro avg       0.83      0.79      0.81     32552\n",
      "weighted avg       0.83      0.84      0.83     32552\n",
      "\n",
      "{'max_iter': 2000, 'loss': 'squared_hinge', 'class_weight': None, 'C': 0.01}\n"
     ]
    }
   ],
   "source": [
    "#LINEAR SVM HP TUNING\n",
    "warnings.filterwarnings(\"ignore\")\n",
    "\n",
    "from sklearn.svm import LinearSVC\n",
    "\n",
    "\n",
    "param_distributions = {\n",
    "    'max_iter':[2000,3000,4000,6000],\n",
    "    'loss': ['squared_hinge'],\n",
    "    'C': [0.1,0.01,0.001,0.0001,1,10,100],\n",
    "    'class_weight': [None, 'balanced']\n",
    "}\n",
    "\n",
    "\n",
    "lsvm = LinearSVC(random_state=42)\n",
    "\n",
    "random_search = RandomizedSearchCV(\n",
    "    estimator=lsvm,\n",
    "    param_distributions=param_distributions,\n",
    "    n_iter=50,\n",
    "    cv=3,       \n",
    "    random_state=42,\n",
    "    n_jobs=-1   \n",
    ")\n",
    "\n",
    "random_search.fit(X_train, y_train)\n",
    "best_params = random_search.best_params_\n",
    "lsvm = random_search.best_estimator_\n",
    "\n",
    "pred_lsvm = lsvm.predict(X_test)\n",
    "acc=lsvm.score(X_test,y_test)\n",
    "models.append(('Linear SVM',lsvm,acc))\n",
    "print(classification_report(y_test,pred_lsvm))\n",
    "print(best_params)"
   ]
  },
  {
   "cell_type": "markdown",
   "id": "b7d13839",
   "metadata": {
    "papermill": {
     "duration": 0.033117,
     "end_time": "2023-08-31T18:21:26.565929",
     "exception": false,
     "start_time": "2023-08-31T18:21:26.532812",
     "status": "completed"
    },
    "tags": []
   },
   "source": [
    "**PR curve with auc and Confusion Matrix for linear SVM with taking predictions as probability functionality is not available**"
   ]
  },
  {
   "cell_type": "code",
   "execution_count": 49,
   "id": "3cc09de0",
   "metadata": {
    "execution": {
     "iopub.execute_input": "2023-08-31T18:21:26.633506Z",
     "iopub.status.busy": "2023-08-31T18:21:26.633131Z",
     "iopub.status.idle": "2023-08-31T18:21:26.930872Z",
     "shell.execute_reply": "2023-08-31T18:21:26.929936Z"
    },
    "papermill": {
     "duration": 0.333567,
     "end_time": "2023-08-31T18:21:26.933024",
     "exception": false,
     "start_time": "2023-08-31T18:21:26.599457",
     "status": "completed"
    },
    "tags": []
   },
   "outputs": [
    {
     "data": {
      "image/png": "[encoded data removed]",
      "text/plain": [
       "<Figure size 640x480 with 1 Axes>"
      ]
     },
     "metadata": {},
     "output_type": "display_data"
    }
   ],
   "source": [
    "from sklearn.metrics import precision_recall_curve,confusion_matrix, ConfusionMatrixDisplay\n",
    "\n",
    "precision, recall, _ = precision_recall_curve(y_test, pred_lsvm)\n",
    "\n",
    "plt.figure()\n",
    "plt.plot(recall, precision, color='blue', label='Precision-Recall curve (AUC = %0.2f)' % auc_score)\n",
    "plt.xlabel('Recall')\n",
    "plt.ylabel('Precision')\n",
    "plt.title('Precision-Recall Curve for Linear SVM')\n",
    "plt.legend(loc='lower left')\n",
    "plt.show()\n"
   ]
  },
  {
   "cell_type": "code",
   "execution_count": 50,
   "id": "1e348d19",
   "metadata": {
    "execution": {
     "iopub.execute_input": "2023-08-31T18:21:27.004179Z",
     "iopub.status.busy": "2023-08-31T18:21:27.002715Z",
     "iopub.status.idle": "2023-08-31T18:21:27.830939Z",
     "shell.execute_reply": "2023-08-31T18:21:27.829993Z"
    },
    "papermill": {
     "duration": 0.865179,
     "end_time": "2023-08-31T18:21:27.833016",
     "exception": false,
     "start_time": "2023-08-31T18:21:26.967837",
     "status": "completed"
    },
    "tags": []
   },
   "outputs": [
    {
     "data": {
      "text/plain": [
       "<Figure size 640x480 with 0 Axes>"
      ]
     },
     "metadata": {},
     "output_type": "display_data"
    },
    {
     "data": {
      "image/png": "[encoded data removed]",
      "text/plain": [
       "<Figure size 640x480 with 2 Axes>"
      ]
     },
     "metadata": {},
     "output_type": "display_data"
    }
   ],
   "source": [
    "cm = confusion_matrix(y_test, pred_lsvm)\n",
    "plt.figure()\n",
    "\n",
    "disp = ConfusionMatrixDisplay(confusion_matrix=cm, display_labels=['Positive', 'Negative'])\n",
    "disp.plot(cmap=plt.cm.Blues, values_format='d')\n",
    "plt.title('Confusion Matrix')\n",
    "\n",
    "plt.tight_layout()\n",
    "plt.show()"
   ]
  },
  {
   "cell_type": "markdown",
   "id": "726945fd",
   "metadata": {
    "papermill": {
     "duration": 0.036297,
     "end_time": "2023-08-31T18:21:27.904459",
     "exception": false,
     "start_time": "2023-08-31T18:21:27.868162",
     "status": "completed"
    },
    "tags": []
   },
   "source": [
    "# 4. XGBoost "
   ]
  },
  {
   "cell_type": "code",
   "execution_count": 51,
   "id": "158a46da",
   "metadata": {
    "execution": {
     "iopub.execute_input": "2023-08-31T18:21:27.975646Z",
     "iopub.status.busy": "2023-08-31T18:21:27.974948Z",
     "iopub.status.idle": "2023-08-31T18:25:10.729288Z",
     "shell.execute_reply": "2023-08-31T18:25:10.728091Z"
    },
    "papermill": {
     "duration": 222.829643,
     "end_time": "2023-08-31T18:25:10.769164",
     "exception": false,
     "start_time": "2023-08-31T18:21:27.939521",
     "status": "completed"
    },
    "tags": []
   },
   "outputs": [
    {
     "name": "stdout",
     "output_type": "stream",
     "text": [
      "              precision    recall  f1-score   support\n",
      "\n",
      "         0.0       0.77      0.65      0.70     10837\n",
      "         1.0       0.84      0.90      0.87     21715\n",
      "\n",
      "    accuracy                           0.82     32552\n",
      "   macro avg       0.80      0.77      0.79     32552\n",
      "weighted avg       0.81      0.82      0.81     32552\n",
      "\n"
     ]
    }
   ],
   "source": [
    "import xgboost as xgb\n",
    "\n",
    "params = {\n",
    "    'objective': 'binary:logistic',\n",
    "    'n_estimators': 1000,\n",
    "    'use_label_encoder': False,\n",
    "    'tree_method': 'gpu_hist',\n",
    "}\n",
    "\n",
    "\n",
    "xg = xgb.XGBClassifier(**params)\n",
    "\n",
    "\n",
    "xg.fit(X_train, y_train)\n",
    "\n",
    "\n",
    "pred_xg = xg.predict(X_test)\n",
    "\n",
    "\n",
    "acc = accuracy_score(y_test, pred_xg)\n",
    "models.append(('XGB',xg,acc))\n",
    "print(classification_report(y_test,pred_xg))"
   ]
  },
  {
   "cell_type": "markdown",
   "id": "9d97d63d",
   "metadata": {
    "papermill": {
     "duration": 0.0352,
     "end_time": "2023-08-31T18:25:10.838938",
     "exception": false,
     "start_time": "2023-08-31T18:25:10.803738",
     "status": "completed"
    },
    "tags": []
   },
   "source": [
    "**Confusion Matrix for XGBoost**"
   ]
  },
  {
   "cell_type": "code",
   "execution_count": 52,
   "id": "f8820b99",
   "metadata": {
    "execution": {
     "iopub.execute_input": "2023-08-31T18:25:10.910416Z",
     "iopub.status.busy": "2023-08-31T18:25:10.909280Z",
     "iopub.status.idle": "2023-08-31T18:25:11.396694Z",
     "shell.execute_reply": "2023-08-31T18:25:11.395637Z"
    },
    "papermill": {
     "duration": 0.525739,
     "end_time": "2023-08-31T18:25:11.398983",
     "exception": false,
     "start_time": "2023-08-31T18:25:10.873244",
     "status": "completed"
    },
    "tags": []
   },
   "outputs": [
    {
     "data": {
      "text/plain": [
       "<Figure size 640x480 with 0 Axes>"
      ]
     },
     "metadata": {},
     "output_type": "display_data"
    },
    {
     "data": {
      "image/png": "[encoded data removed]",
      "text/plain": [
       "<Figure size 640x480 with 2 Axes>"
      ]
     },
     "metadata": {},
     "output_type": "display_data"
    }
   ],
   "source": [
    "plt.figure()\n",
    "cm = confusion_matrix(y_test, pred_xg)\n",
    "disp = ConfusionMatrixDisplay(confusion_matrix=cm, display_labels=['Positive', 'Negative'])\n",
    "disp.plot(cmap=plt.cm.Blues, values_format='d')\n",
    "plt.title('Confusion Matrix')\n",
    "\n",
    "plt.tight_layout()\n",
    "plt.show()"
   ]
  },
  {
   "cell_type": "code",
   "execution_count": 53,
   "id": "675da9bb",
   "metadata": {
    "execution": {
     "iopub.execute_input": "2023-08-31T18:25:11.476484Z",
     "iopub.status.busy": "2023-08-31T18:25:11.475762Z",
     "iopub.status.idle": "2023-08-31T18:25:11.482380Z",
     "shell.execute_reply": "2023-08-31T18:25:11.481451Z"
    },
    "papermill": {
     "duration": 0.048361,
     "end_time": "2023-08-31T18:25:11.484366",
     "exception": false,
     "start_time": "2023-08-31T18:25:11.436005",
     "status": "completed"
    },
    "tags": []
   },
   "outputs": [],
   "source": [
    "model_table = pd.DataFrame(models, columns=['Model', 'Model Object','Accuracy'])\n",
    "\n",
    "\n",
    "best_model_info = max(models, key=lambda x: x[2])\n",
    "\n",
    "best_model_name, best_model, best_accuracy = best_model_info\n"
   ]
  },
  {
   "cell_type": "code",
   "execution_count": 54,
   "id": "7eea930c",
   "metadata": {
    "execution": {
     "iopub.execute_input": "2023-08-31T18:25:11.557195Z",
     "iopub.status.busy": "2023-08-31T18:25:11.556297Z",
     "iopub.status.idle": "2023-08-31T18:25:11.945019Z",
     "shell.execute_reply": "2023-08-31T18:25:11.943994Z"
    },
    "papermill": {
     "duration": 0.427391,
     "end_time": "2023-08-31T18:25:11.947201",
     "exception": false,
     "start_time": "2023-08-31T18:25:11.519810",
     "status": "completed"
    },
    "tags": []
   },
   "outputs": [
    {
     "data": {
      "image/png": "[encoded data removed]",
      "text/plain": [
       "<Figure size 640x480 with 2 Axes>"
      ]
     },
     "metadata": {},
     "output_type": "display_data"
    }
   ],
   "source": [
    "from sklearn.metrics import confusion_matrix\n",
    "\n",
    "best_pred = best_model.predict(X_test)\n",
    "cm = confusion_matrix(y_test, best_pred)\n",
    "\n",
    "disp = ConfusionMatrixDisplay(confusion_matrix=cm, display_labels=['Positive', 'Negative'])\n",
    "disp.plot(cmap=plt.cm.Blues, values_format='d')\n",
    "plt.title('Best Models Confusion Matrix')\n",
    "\n",
    "plt.tight_layout()\n",
    "plt.show()"
   ]
  },
  {
   "cell_type": "code",
   "execution_count": 55,
   "id": "a2080967",
   "metadata": {
    "execution": {
     "iopub.execute_input": "2023-08-31T18:25:12.020749Z",
     "iopub.status.busy": "2023-08-31T18:25:12.020442Z",
     "iopub.status.idle": "2023-08-31T18:25:28.609327Z",
     "shell.execute_reply": "2023-08-31T18:25:28.608066Z"
    },
    "papermill": {
     "duration": 16.629459,
     "end_time": "2023-08-31T18:25:28.613180",
     "exception": false,
     "start_time": "2023-08-31T18:25:11.983721",
     "status": "completed"
    },
    "tags": []
   },
   "outputs": [
    {
     "data": {
      "text/html": [
       "<style>#sk-container-id-1 {color: black;background-color: white;}#sk-container-id-1 pre{padding: 0;}#sk-container-id-1 div.sk-toggleable {background-color: white;}#sk-container-id-1 label.sk-toggleable__label {cursor: pointer;display: block;width: 100%;margin-bottom: 0;padding: 0.3em;box-sizing: border-box;text-align: center;}#sk-container-id-1 label.sk-toggleable__label-arrow:before {content: \"▸\";float: left;margin-right: 0.25em;color: #696969;}#sk-container-id-1 label.sk-toggleable__label-arrow:hover:before {color: black;}#sk-container-id-1 div.sk-estimator:hover label.sk-toggleable__label-arrow:before {color: black;}#sk-container-id-1 div.sk-toggleable__content {max-height: 0;max-width: 0;overflow: hidden;text-align: left;background-color: #f0f8ff;}#sk-container-id-1 div.sk-toggleable__content pre {margin: 0.2em;color: black;border-radius: 0.25em;background-color: #f0f8ff;}#sk-container-id-1 input.sk-toggleable__control:checked~div.sk-toggleable__content {max-height: 200px;max-width: 100%;overflow: auto;}#sk-container-id-1 input.sk-toggleable__control:checked~label.sk-toggleable__label-arrow:before {content: \"▾\";}#sk-container-id-1 div.sk-estimator input.sk-toggleable__control:checked~label.sk-toggleable__label {background-color: #d4ebff;}#sk-container-id-1 div.sk-label input.sk-toggleable__control:checked~label.sk-toggleable__label {background-color: #d4ebff;}#sk-container-id-1 input.sk-hidden--visually {border: 0;clip: rect(1px 1px 1px 1px);clip: rect(1px, 1px, 1px, 1px);height: 1px;margin: -1px;overflow: hidden;padding: 0;position: absolute;width: 1px;}#sk-container-id-1 div.sk-estimator {font-family: monospace;background-color: #f0f8ff;border: 1px dotted black;border-radius: 0.25em;box-sizing: border-box;margin-bottom: 0.5em;}#sk-container-id-1 div.sk-estimator:hover {background-color: #d4ebff;}#sk-container-id-1 div.sk-parallel-item::after {content: \"\";width: 100%;border-bottom: 1px solid gray;flex-grow: 1;}#sk-container-id-1 div.sk-label:hover label.sk-toggleable__label {background-color: #d4ebff;}#sk-container-id-1 div.sk-serial::before {content: \"\";position: absolute;border-left: 1px solid gray;box-sizing: border-box;top: 0;bottom: 0;left: 50%;z-index: 0;}#sk-container-id-1 div.sk-serial {display: flex;flex-direction: column;align-items: center;background-color: white;padding-right: 0.2em;padding-left: 0.2em;position: relative;}#sk-container-id-1 div.sk-item {position: relative;z-index: 1;}#sk-container-id-1 div.sk-parallel {display: flex;align-items: stretch;justify-content: center;background-color: white;position: relative;}#sk-container-id-1 div.sk-item::before, #sk-container-id-1 div.sk-parallel-item::before {content: \"\";position: absolute;border-left: 1px solid gray;box-sizing: border-box;top: 0;bottom: 0;left: 50%;z-index: -1;}#sk-container-id-1 div.sk-parallel-item {display: flex;flex-direction: column;z-index: 1;position: relative;background-color: white;}#sk-container-id-1 div.sk-parallel-item:first-child::after {align-self: flex-end;width: 50%;}#sk-container-id-1 div.sk-parallel-item:last-child::after {align-self: flex-start;width: 50%;}#sk-container-id-1 div.sk-parallel-item:only-child::after {width: 0;}#sk-container-id-1 div.sk-dashed-wrapped {border: 1px dashed gray;margin: 0 0.4em 0.5em 0.4em;box-sizing: border-box;padding-bottom: 0.4em;background-color: white;}#sk-container-id-1 div.sk-label label {font-family: monospace;font-weight: bold;display: inline-block;line-height: 1.2em;}#sk-container-id-1 div.sk-label-container {text-align: center;}#sk-container-id-1 div.sk-container {/* jupyter's `normalize.less` sets `[hidden] { display: none; }` but bootstrap.min.css set `[hidden] { display: none !important; }` so we also need the `!important` here to be able to override the default hidden behavior on the sphinx rendered scikit-learn.org. See: https://github.com/scikit-learn/scikit-learn/issues/21755 */display: inline-block !important;position: relative;}#sk-container-id-1 div.sk-text-repr-fallback {display: none;}</style><div id=\"sk-container-id-1\" class=\"sk-top-container\"><div class=\"sk-text-repr-fallback\"><pre>LogisticRegression(C=1, max_iter=1000, random_state=42, solver=&#x27;liblinear&#x27;,\n",
       "                   tol=0.001)</pre><b>In a Jupyter environment, please rerun this cell to show the HTML representation or trust the notebook. <br />On GitHub, the HTML representation is unable to render, please try loading this page with nbviewer.org.</b></div><div class=\"sk-container\" hidden><div class=\"sk-item\"><div class=\"sk-estimator sk-toggleable\"><input class=\"sk-toggleable__control sk-hidden--visually\" id=\"sk-estimator-id-1\" type=\"checkbox\" checked><label for=\"sk-estimator-id-1\" class=\"sk-toggleable__label sk-toggleable__label-arrow\">LogisticRegression</label><div class=\"sk-toggleable__content\"><pre>LogisticRegression(C=1, max_iter=1000, random_state=42, solver=&#x27;liblinear&#x27;,\n",
       "                   tol=0.001)</pre></div></div></div></div></div>"
      ],
      "text/plain": [
       "LogisticRegression(C=1, max_iter=1000, random_state=42, solver='liblinear',\n",
       "                   tol=0.001)"
      ]
     },
     "execution_count": 55,
     "metadata": {},
     "output_type": "execute_result"
    }
   ],
   "source": [
    "best_model.fit(stack, y)"
   ]
  },
  {
   "cell_type": "code",
   "execution_count": 56,
   "id": "3e469c65",
   "metadata": {
    "execution": {
     "iopub.execute_input": "2023-08-31T18:25:28.694712Z",
     "iopub.status.busy": "2023-08-31T18:25:28.694394Z",
     "iopub.status.idle": "2023-08-31T18:25:28.710611Z",
     "shell.execute_reply": "2023-08-31T18:25:28.709515Z"
    },
    "papermill": {
     "duration": 0.056688,
     "end_time": "2023-08-31T18:25:28.713177",
     "exception": false,
     "start_time": "2023-08-31T18:25:28.656489",
     "status": "completed"
    },
    "tags": []
   },
   "outputs": [
    {
     "data": {
      "text/html": [
       "<div>\n",
       "<style scoped>\n",
       "    .dataframe tbody tr th:only-of-type {\n",
       "        vertical-align: middle;\n",
       "    }\n",
       "\n",
       "    .dataframe tbody tr th {\n",
       "        vertical-align: top;\n",
       "    }\n",
       "\n",
       "    .dataframe thead th {\n",
       "        text-align: right;\n",
       "    }\n",
       "</style>\n",
       "<table border=\"1\" class=\"dataframe\">\n",
       "  <thead>\n",
       "    <tr style=\"text-align: right;\">\n",
       "      <th></th>\n",
       "      <th>Model</th>\n",
       "      <th>Model Object</th>\n",
       "      <th>Accuracy</th>\n",
       "    </tr>\n",
       "  </thead>\n",
       "  <tbody>\n",
       "    <tr>\n",
       "      <th>0</th>\n",
       "      <td>Logistic</td>\n",
       "      <td>LogisticRegression(C=1, max_iter=1000, random_...</td>\n",
       "      <td>0.835955</td>\n",
       "    </tr>\n",
       "    <tr>\n",
       "      <th>1</th>\n",
       "      <td>Naive Bayes</td>\n",
       "      <td>BernoulliNB(alpha=0.572236765935022)</td>\n",
       "      <td>0.816601</td>\n",
       "    </tr>\n",
       "    <tr>\n",
       "      <th>2</th>\n",
       "      <td>Linear SVM</td>\n",
       "      <td>LinearSVC(C=0.01, max_iter=2000, random_state=42)</td>\n",
       "      <td>0.835586</td>\n",
       "    </tr>\n",
       "    <tr>\n",
       "      <th>3</th>\n",
       "      <td>XGB</td>\n",
       "      <td>XGBClassifier(base_score=None, booster=None, c...</td>\n",
       "      <td>0.817492</td>\n",
       "    </tr>\n",
       "  </tbody>\n",
       "</table>\n",
       "</div>"
      ],
      "text/plain": [
       "         Model                                       Model Object  Accuracy\n",
       "0     Logistic  LogisticRegression(C=1, max_iter=1000, random_...  0.835955\n",
       "1  Naive Bayes               BernoulliNB(alpha=0.572236765935022)  0.816601\n",
       "2   Linear SVM  LinearSVC(C=0.01, max_iter=2000, random_state=42)  0.835586\n",
       "3          XGB  XGBClassifier(base_score=None, booster=None, c...  0.817492"
      ]
     },
     "execution_count": 56,
     "metadata": {},
     "output_type": "execute_result"
    }
   ],
   "source": [
    "model_table.head()"
   ]
  },
  {
   "cell_type": "markdown",
   "id": "2466c37e",
   "metadata": {
    "papermill": {
     "duration": 0.035935,
     "end_time": "2023-08-31T18:25:28.788283",
     "exception": false,
     "start_time": "2023-08-31T18:25:28.752348",
     "status": "completed"
    },
    "tags": []
   },
   "source": [
    "****Debugging and Identification of Drawbacks****"
   ]
  },
  {
   "cell_type": "code",
   "execution_count": 57,
   "id": "4abe31ad",
   "metadata": {
    "execution": {
     "iopub.execute_input": "2023-08-31T18:25:28.863436Z",
     "iopub.status.busy": "2023-08-31T18:25:28.863118Z",
     "iopub.status.idle": "2023-08-31T18:25:29.061909Z",
     "shell.execute_reply": "2023-08-31T18:25:29.060901Z"
    },
    "papermill": {
     "duration": 0.239932,
     "end_time": "2023-08-31T18:25:29.064463",
     "exception": false,
     "start_time": "2023-08-31T18:25:28.824531",
     "status": "completed"
    },
    "tags": []
   },
   "outputs": [],
   "source": [
    "df['predictions']=best_model.predict(stack)\n",
    "mis=df[df['predictions']!=df['sentiment']]\n",
    "mis=mis[mis['sentiment']==0]"
   ]
  },
  {
   "cell_type": "code",
   "execution_count": 58,
   "id": "0b1c789a",
   "metadata": {
    "execution": {
     "iopub.execute_input": "2023-08-31T18:25:29.142770Z",
     "iopub.status.busy": "2023-08-31T18:25:29.142378Z",
     "iopub.status.idle": "2023-08-31T18:25:29.168726Z",
     "shell.execute_reply": "2023-08-31T18:25:29.167654Z"
    },
    "papermill": {
     "duration": 0.068041,
     "end_time": "2023-08-31T18:25:29.171295",
     "exception": false,
     "start_time": "2023-08-31T18:25:29.103254",
     "status": "completed"
    },
    "tags": []
   },
   "outputs": [
    {
     "data": {
      "text/html": [
       "<div>\n",
       "<style scoped>\n",
       "    .dataframe tbody tr th:only-of-type {\n",
       "        vertical-align: middle;\n",
       "    }\n",
       "\n",
       "    .dataframe tbody tr th {\n",
       "        vertical-align: top;\n",
       "    }\n",
       "\n",
       "    .dataframe thead th {\n",
       "        text-align: right;\n",
       "    }\n",
       "</style>\n",
       "<table border=\"1\" class=\"dataframe\">\n",
       "  <thead>\n",
       "    <tr style=\"text-align: right;\">\n",
       "      <th></th>\n",
       "      <th>movieid</th>\n",
       "      <th>title</th>\n",
       "      <th>audienceScore</th>\n",
       "      <th>releaseDateStreaming</th>\n",
       "      <th>director</th>\n",
       "      <th>reviewerName</th>\n",
       "      <th>isFrequentReviewer</th>\n",
       "      <th>reviewText</th>\n",
       "      <th>sentiment</th>\n",
       "      <th>cleanedText</th>\n",
       "      <th>polarity</th>\n",
       "      <th>predictions</th>\n",
       "    </tr>\n",
       "  </thead>\n",
       "  <tbody>\n",
       "    <tr>\n",
       "      <th>24</th>\n",
       "      <td>adventure_captain_america_harry_potter</td>\n",
       "      <td>Adventure Captain America Harry Potter</td>\n",
       "      <td>70.0</td>\n",
       "      <td>[2017-11-07]</td>\n",
       "      <td>MichelleRainey DessieGilchrist</td>\n",
       "      <td>Kristin Davis DDS</td>\n",
       "      <td>0</td>\n",
       "      <td>Walls's story, so fresh and vivid in her memoi...</td>\n",
       "      <td>0</td>\n",
       "      <td>wallss story fresh vivid memoir perfectly watc...</td>\n",
       "      <td>0.33</td>\n",
       "      <td>1.0</td>\n",
       "    </tr>\n",
       "    <tr>\n",
       "      <th>93</th>\n",
       "      <td>adventure_e.t._marty_mcfly</td>\n",
       "      <td>Adventure E.T. Marty McFly</td>\n",
       "      <td>76.0</td>\n",
       "      <td>[2011-01-25]</td>\n",
       "      <td>PhillipOdom</td>\n",
       "      <td>Justin Becker</td>\n",
       "      <td>1</td>\n",
       "      <td>It shorts its audience on the rich and vibrant...</td>\n",
       "      <td>0</td>\n",
       "      <td>shorts audience rich vibrant experience contin...</td>\n",
       "      <td>0.44</td>\n",
       "      <td>1.0</td>\n",
       "    </tr>\n",
       "    <tr>\n",
       "      <th>129</th>\n",
       "      <td>adventure_edward_scissorhands_travis_bickle_neo</td>\n",
       "      <td>Adventure Edward Scissorhands Travis Bickle Neo</td>\n",
       "      <td>70.0</td>\n",
       "      <td>[2019-08-27]</td>\n",
       "      <td>GeorgeWarfield</td>\n",
       "      <td>Jennifer Lane</td>\n",
       "      <td>0</td>\n",
       "      <td>It has no tension.</td>\n",
       "      <td>0</td>\n",
       "      <td>no tension</td>\n",
       "      <td>0.13</td>\n",
       "      <td>1.0</td>\n",
       "    </tr>\n",
       "    <tr>\n",
       "      <th>192</th>\n",
       "      <td>adventure_epic</td>\n",
       "      <td>Adventure Epic</td>\n",
       "      <td>77.0</td>\n",
       "      <td>[2004-06-29]</td>\n",
       "      <td>LyleNess</td>\n",
       "      <td>Jean Choi</td>\n",
       "      <td>0</td>\n",
       "      <td>Beauty and skill bereft of passion or personal...</td>\n",
       "      <td>0</td>\n",
       "      <td>beauty skill bereft passion personality</td>\n",
       "      <td>0.51</td>\n",
       "      <td>1.0</td>\n",
       "    </tr>\n",
       "    <tr>\n",
       "      <th>194</th>\n",
       "      <td>adventure_epic</td>\n",
       "      <td>Adventure Epic</td>\n",
       "      <td>77.0</td>\n",
       "      <td>[2004-06-29]</td>\n",
       "      <td>LyleNess</td>\n",
       "      <td>Phyllis Ballard</td>\n",
       "      <td>0</td>\n",
       "      <td>While the film is handsome to look at and has ...</td>\n",
       "      <td>0</td>\n",
       "      <td>film handsome look fair share realism also get...</td>\n",
       "      <td>0.43</td>\n",
       "      <td>1.0</td>\n",
       "    </tr>\n",
       "    <tr>\n",
       "      <th>220</th>\n",
       "      <td>adventure_fantasy_miracle</td>\n",
       "      <td>Adventure Fantasy Miracle</td>\n",
       "      <td>93.0</td>\n",
       "      <td>[2006-04-25]</td>\n",
       "      <td>LewisPhelps</td>\n",
       "      <td>Sabrina Norton</td>\n",
       "      <td>0</td>\n",
       "      <td></td>\n",
       "      <td>0</td>\n",
       "      <td></td>\n",
       "      <td>0.35</td>\n",
       "      <td>1.0</td>\n",
       "    </tr>\n",
       "    <tr>\n",
       "      <th>285</th>\n",
       "      <td>adventure_james_t._kirk_tyler_durden</td>\n",
       "      <td>Adventure James T. Kirk Tyler Durden</td>\n",
       "      <td>48.0</td>\n",
       "      <td>[2006-08-22]</td>\n",
       "      <td>BillyDiaz</td>\n",
       "      <td>Ralph Dean</td>\n",
       "      <td>0</td>\n",
       "      <td></td>\n",
       "      <td>0</td>\n",
       "      <td></td>\n",
       "      <td>0.35</td>\n",
       "      <td>1.0</td>\n",
       "    </tr>\n",
       "    <tr>\n",
       "      <th>333</th>\n",
       "      <td>adventure_marvelous_jon_snow_dorothy_gale</td>\n",
       "      <td>Adventure Marvelous Jon Snow Dorothy Gale</td>\n",
       "      <td>91.0</td>\n",
       "      <td>[2002-10-22]</td>\n",
       "      <td>JuliaTinoco</td>\n",
       "      <td>Omar Sharp</td>\n",
       "      <td>0</td>\n",
       "      <td></td>\n",
       "      <td>0</td>\n",
       "      <td></td>\n",
       "      <td>0.35</td>\n",
       "      <td>1.0</td>\n",
       "    </tr>\n",
       "    <tr>\n",
       "      <th>435</th>\n",
       "      <td>adventure_tony_montana_ellen_ripley</td>\n",
       "      <td>Adventure Tony Montana Ellen Ripley</td>\n",
       "      <td>54.0</td>\n",
       "      <td>[2014-10-13, 2005-05-31]</td>\n",
       "      <td>EzequielShone GeorgeCaylor</td>\n",
       "      <td>Calvin Moore</td>\n",
       "      <td>0</td>\n",
       "      <td></td>\n",
       "      <td>0</td>\n",
       "      <td></td>\n",
       "      <td>0.35</td>\n",
       "      <td>1.0</td>\n",
       "    </tr>\n",
       "    <tr>\n",
       "      <th>490</th>\n",
       "      <td>adventure_wondrous_dream_mystic</td>\n",
       "      <td>Adventure Wondrous Dream Mystic</td>\n",
       "      <td>61.0</td>\n",
       "      <td>[2005-09-06, 1998-11-17, 2017-01-28]</td>\n",
       "      <td>GeraldMartin BradyHodge DavidPhillies DannySmi...</td>\n",
       "      <td>Savannah Zhang</td>\n",
       "      <td>0</td>\n",
       "      <td></td>\n",
       "      <td>0</td>\n",
       "      <td></td>\n",
       "      <td>0.35</td>\n",
       "      <td>1.0</td>\n",
       "    </tr>\n",
       "  </tbody>\n",
       "</table>\n",
       "</div>"
      ],
      "text/plain": [
       "                                             movieid  \\\n",
       "24            adventure_captain_america_harry_potter   \n",
       "93                        adventure_e.t._marty_mcfly   \n",
       "129  adventure_edward_scissorhands_travis_bickle_neo   \n",
       "192                                   adventure_epic   \n",
       "194                                   adventure_epic   \n",
       "220                        adventure_fantasy_miracle   \n",
       "285             adventure_james_t._kirk_tyler_durden   \n",
       "333        adventure_marvelous_jon_snow_dorothy_gale   \n",
       "435              adventure_tony_montana_ellen_ripley   \n",
       "490                  adventure_wondrous_dream_mystic   \n",
       "\n",
       "                                               title  audienceScore  \\\n",
       "24            Adventure Captain America Harry Potter           70.0   \n",
       "93                        Adventure E.T. Marty McFly           76.0   \n",
       "129  Adventure Edward Scissorhands Travis Bickle Neo           70.0   \n",
       "192                                   Adventure Epic           77.0   \n",
       "194                                   Adventure Epic           77.0   \n",
       "220                        Adventure Fantasy Miracle           93.0   \n",
       "285             Adventure James T. Kirk Tyler Durden           48.0   \n",
       "333        Adventure Marvelous Jon Snow Dorothy Gale           91.0   \n",
       "435              Adventure Tony Montana Ellen Ripley           54.0   \n",
       "490                  Adventure Wondrous Dream Mystic           61.0   \n",
       "\n",
       "                     releaseDateStreaming  \\\n",
       "24                           [2017-11-07]   \n",
       "93                           [2011-01-25]   \n",
       "129                          [2019-08-27]   \n",
       "192                          [2004-06-29]   \n",
       "194                          [2004-06-29]   \n",
       "220                          [2006-04-25]   \n",
       "285                          [2006-08-22]   \n",
       "333                          [2002-10-22]   \n",
       "435              [2014-10-13, 2005-05-31]   \n",
       "490  [2005-09-06, 1998-11-17, 2017-01-28]   \n",
       "\n",
       "                                              director       reviewerName  \\\n",
       "24                      MichelleRainey DessieGilchrist  Kristin Davis DDS   \n",
       "93                                         PhillipOdom      Justin Becker   \n",
       "129                                     GeorgeWarfield      Jennifer Lane   \n",
       "192                                           LyleNess          Jean Choi   \n",
       "194                                           LyleNess    Phyllis Ballard   \n",
       "220                                        LewisPhelps     Sabrina Norton   \n",
       "285                                          BillyDiaz         Ralph Dean   \n",
       "333                                        JuliaTinoco         Omar Sharp   \n",
       "435                         EzequielShone GeorgeCaylor       Calvin Moore   \n",
       "490  GeraldMartin BradyHodge DavidPhillies DannySmi...     Savannah Zhang   \n",
       "\n",
       "     isFrequentReviewer                                         reviewText  \\\n",
       "24                    0  Walls's story, so fresh and vivid in her memoi...   \n",
       "93                    1  It shorts its audience on the rich and vibrant...   \n",
       "129                   0                                 It has no tension.   \n",
       "192                   0  Beauty and skill bereft of passion or personal...   \n",
       "194                   0  While the film is handsome to look at and has ...   \n",
       "220                   0                                                      \n",
       "285                   0                                                      \n",
       "333                   0                                                      \n",
       "435                   0                                                      \n",
       "490                   0                                                      \n",
       "\n",
       "     sentiment                                        cleanedText  polarity  \\\n",
       "24           0  wallss story fresh vivid memoir perfectly watc...      0.33   \n",
       "93           0  shorts audience rich vibrant experience contin...      0.44   \n",
       "129          0                                         no tension      0.13   \n",
       "192          0            beauty skill bereft passion personality      0.51   \n",
       "194          0  film handsome look fair share realism also get...      0.43   \n",
       "220          0                                                         0.35   \n",
       "285          0                                                         0.35   \n",
       "333          0                                                         0.35   \n",
       "435          0                                                         0.35   \n",
       "490          0                                                         0.35   \n",
       "\n",
       "     predictions  \n",
       "24           1.0  \n",
       "93           1.0  \n",
       "129          1.0  \n",
       "192          1.0  \n",
       "194          1.0  \n",
       "220          1.0  \n",
       "285          1.0  \n",
       "333          1.0  \n",
       "435          1.0  \n",
       "490          1.0  "
      ]
     },
     "execution_count": 58,
     "metadata": {},
     "output_type": "execute_result"
    }
   ],
   "source": [
    "mis.head(10)"
   ]
  },
  {
   "cell_type": "code",
   "execution_count": 59,
   "id": "29daaa3d",
   "metadata": {
    "execution": {
     "iopub.execute_input": "2023-08-31T18:25:29.252443Z",
     "iopub.status.busy": "2023-08-31T18:25:29.251524Z",
     "iopub.status.idle": "2023-08-31T18:25:31.108933Z",
     "shell.execute_reply": "2023-08-31T18:25:31.107970Z"
    },
    "papermill": {
     "duration": 1.898467,
     "end_time": "2023-08-31T18:25:31.111298",
     "exception": false,
     "start_time": "2023-08-31T18:25:29.212831",
     "status": "completed"
    },
    "tags": []
   },
   "outputs": [
    {
     "data": {
      "image/png": "[encoded data removed]",
      "text/plain": [
       "<Figure size 1200x600 with 2 Axes>"
      ]
     },
     "metadata": {},
     "output_type": "display_data"
    }
   ],
   "source": [
    "fig, axes = plt.subplots(1, 2, figsize=(12, 6))\n",
    "\n",
    "\n",
    "sns.histplot(data=df['audienceScore'],bins=100, kde=True, ax=axes[0])\n",
    "axes[0].set_title('Full Dataset')\n",
    "\n",
    "\n",
    "sns.histplot(data=mis['audienceScore'],bins=100, kde=True, ax=axes[1])\n",
    "axes[1].set_title('False Positives')\n",
    "\n",
    "\n",
    "plt.tight_layout()\n",
    "\n",
    "\n",
    "plt.show()\n"
   ]
  },
  {
   "cell_type": "markdown",
   "id": "9c39fc16",
   "metadata": {
    "papermill": {
     "duration": 0.039564,
     "end_time": "2023-08-31T18:25:31.190548",
     "exception": false,
     "start_time": "2023-08-31T18:25:31.150984",
     "status": "completed"
    },
    "tags": []
   },
   "source": [
    "Our false positive rate is high.Which is also signified by the prevalence of relatively **positive words** in misclassified negative reviews.Also mean **audienceScore** is higher for these data points"
   ]
  },
  {
   "cell_type": "markdown",
   "id": "ef2a3b1c",
   "metadata": {
    "papermill": {
     "duration": 0.038849,
     "end_time": "2023-08-31T18:25:31.268629",
     "exception": false,
     "start_time": "2023-08-31T18:25:31.229780",
     "status": "completed"
    },
    "tags": []
   },
   "source": [
    "# **Preparing Test data for Submisssion**"
   ]
  },
  {
   "cell_type": "markdown",
   "id": "04025ebb",
   "metadata": {
    "papermill": {
     "duration": 0.039914,
     "end_time": "2023-08-31T18:25:31.347013",
     "exception": false,
     "start_time": "2023-08-31T18:25:31.307099",
     "status": "completed"
    },
    "tags": []
   },
   "source": [
    "**Function for merging test data with movies**"
   ]
  },
  {
   "cell_type": "code",
   "execution_count": 60,
   "id": "43d1ea37",
   "metadata": {
    "execution": {
     "iopub.execute_input": "2023-08-31T18:25:31.426699Z",
     "iopub.status.busy": "2023-08-31T18:25:31.426330Z",
     "iopub.status.idle": "2023-08-31T18:25:31.641725Z",
     "shell.execute_reply": "2023-08-31T18:25:31.640412Z"
    },
    "papermill": {
     "duration": 0.258686,
     "end_time": "2023-08-31T18:25:31.644331",
     "exception": false,
     "start_time": "2023-08-31T18:25:31.385645",
     "status": "completed"
    },
    "tags": []
   },
   "outputs": [],
   "source": [
    "score_fill=round(df['audienceScore'].mean(),0)\n",
    "def merge_movies_test(meta,main):\n",
    "\n",
    "  main = main.merge(meta,on='movieid', sort=False).sort_values(by='index')\n",
    "\n",
    "\n",
    "  main['isTopCritic']=main['isTopCritic'].replace({True: 1, False: 0})\n",
    "  main['audienceScore']=main['audienceScore'].fillna(score_fill)\n",
    "    \n",
    "  main['reviewText']=main['reviewText'].fillna('')\n",
    "\n",
    "\n",
    "\n",
    "  return main\n",
    "\n",
    "test['index'] = test.index\n",
    "test=merge_movies_test(movies,test)"
   ]
  },
  {
   "cell_type": "markdown",
   "id": "798bf78b",
   "metadata": {
    "papermill": {
     "duration": 0.042371,
     "end_time": "2023-08-31T18:25:31.728604",
     "exception": false,
     "start_time": "2023-08-31T18:25:31.686233",
     "status": "completed"
    },
    "tags": []
   },
   "source": [
    "****Calculating polarity for test****"
   ]
  },
  {
   "cell_type": "code",
   "execution_count": 61,
   "id": "7b9cd319",
   "metadata": {
    "execution": {
     "iopub.execute_input": "2023-08-31T18:25:31.816621Z",
     "iopub.status.busy": "2023-08-31T18:25:31.816226Z",
     "iopub.status.idle": "2023-08-31T18:25:48.477353Z",
     "shell.execute_reply": "2023-08-31T18:25:48.476090Z"
    },
    "papermill": {
     "duration": 16.708653,
     "end_time": "2023-08-31T18:25:48.481157",
     "exception": false,
     "start_time": "2023-08-31T18:25:31.772504",
     "status": "completed"
    },
    "tags": []
   },
   "outputs": [],
   "source": [
    "test['polarity']=np.nan\n",
    "\n",
    "for index,value in test.iterrows():\n",
    "    pos=0\n",
    "    neg=0\n",
    "    text=data_cleaning(value['reviewText']).split()\n",
    "    for j in text:\n",
    "        if j not in words:\n",
    "            continue\n",
    "        neg+=words[j][0]\n",
    "        pos+=words[j][1]\n",
    "    \n",
    "    polarity_score = round((pos - neg) / max(1, pos + neg),2)\n",
    "    if polarity_score==0:\n",
    "        continue\n",
    "    else:\n",
    "        test.loc[index,'polarity']=polarity_score\n",
    "    \n",
    "        \n",
    "\n",
    "test['polarity']=test['polarity'].fillna(round(df['polarity'].mean(),2)) \n"
   ]
  },
  {
   "cell_type": "markdown",
   "id": "4bd7ae4c",
   "metadata": {
    "papermill": {
     "duration": 0.058581,
     "end_time": "2023-08-31T18:25:48.615276",
     "exception": false,
     "start_time": "2023-08-31T18:25:48.556695",
     "status": "completed"
    },
    "tags": []
   },
   "source": [
    "**Encoding Test Data**"
   ]
  },
  {
   "cell_type": "code",
   "execution_count": 62,
   "id": "cebd4026",
   "metadata": {
    "execution": {
     "iopub.execute_input": "2023-08-31T18:25:48.731088Z",
     "iopub.status.busy": "2023-08-31T18:25:48.730541Z",
     "iopub.status.idle": "2023-08-31T18:25:55.289310Z",
     "shell.execute_reply": "2023-08-31T18:25:55.288144Z"
    },
    "papermill": {
     "duration": 6.620336,
     "end_time": "2023-08-31T18:25:55.292305",
     "exception": false,
     "start_time": "2023-08-31T18:25:48.671969",
     "status": "completed"
    },
    "tags": []
   },
   "outputs": [],
   "source": [
    "\n",
    "freq_test = np.array(test['isTopCritic'].astype(np.int16) ).reshape(55315,1).astype(np.float16)\n",
    "score_test = scale_score.transform(test['audienceScore'].values.reshape(-1, 1)).astype(np.float16)\n",
    "polarity_test=scale_pol.transform(test['polarity'].values.reshape(-1,1)).astype(np.float16) \n",
    "names_test=encode.transform(np.array(test['reviewerName']).reshape(-1,1)).astype(np.float16)\n",
    "movies_test=encode_movie.transform(np.array(test['title']).reshape(-1,1)).astype(np.float16)\n",
    "test_matrix3 = vectorizer3.transform(test['director'])\n",
    "test_matrix5 = vectorizer5.transform(test['reviewText'])\n",
    "\n",
    "stack_test=hstack((freq_test,score_test,polarity_test,test_matrix3,movies_test,names_test,test_matrix5))"
   ]
  },
  {
   "cell_type": "markdown",
   "id": "224638be",
   "metadata": {
    "papermill": {
     "duration": 0.037811,
     "end_time": "2023-08-31T18:25:55.373014",
     "exception": false,
     "start_time": "2023-08-31T18:25:55.335203",
     "status": "completed"
    },
    "tags": []
   },
   "source": [
    "**Predicting and submitting**"
   ]
  },
  {
   "cell_type": "code",
   "execution_count": 63,
   "id": "75657c13",
   "metadata": {
    "execution": {
     "iopub.execute_input": "2023-08-31T18:25:55.466852Z",
     "iopub.status.busy": "2023-08-31T18:25:55.466350Z",
     "iopub.status.idle": "2023-08-31T18:25:55.517111Z",
     "shell.execute_reply": "2023-08-31T18:25:55.515911Z"
    },
    "papermill": {
     "duration": 0.109616,
     "end_time": "2023-08-31T18:25:55.520184",
     "exception": false,
     "start_time": "2023-08-31T18:25:55.410568",
     "status": "completed"
    },
    "tags": []
   },
   "outputs": [],
   "source": [
    "prediction=best_model.predict(stack_test)\n",
    "prediction=np.where(prediction == 1, 'POSITIVE', 'NEGATIVE')\n",
    "\n",
    "submission = pd.DataFrame(columns=['id','sentiment'])"
   ]
  },
  {
   "cell_type": "code",
   "execution_count": 64,
   "id": "11fb496e",
   "metadata": {
    "execution": {
     "iopub.execute_input": "2023-08-31T18:25:55.600565Z",
     "iopub.status.busy": "2023-08-31T18:25:55.599714Z",
     "iopub.status.idle": "2023-08-31T18:25:55.670962Z",
     "shell.execute_reply": "2023-08-31T18:25:55.669917Z"
    },
    "papermill": {
     "duration": 0.112476,
     "end_time": "2023-08-31T18:25:55.673664",
     "exception": false,
     "start_time": "2023-08-31T18:25:55.561188",
     "status": "completed"
    },
    "tags": []
   },
   "outputs": [
    {
     "data": {
      "text/html": [
       "<div>\n",
       "<style scoped>\n",
       "    .dataframe tbody tr th:only-of-type {\n",
       "        vertical-align: middle;\n",
       "    }\n",
       "\n",
       "    .dataframe tbody tr th {\n",
       "        vertical-align: top;\n",
       "    }\n",
       "\n",
       "    .dataframe thead th {\n",
       "        text-align: right;\n",
       "    }\n",
       "</style>\n",
       "<table border=\"1\" class=\"dataframe\">\n",
       "  <thead>\n",
       "    <tr style=\"text-align: right;\">\n",
       "      <th></th>\n",
       "      <th>id</th>\n",
       "      <th>sentiment</th>\n",
       "    </tr>\n",
       "  </thead>\n",
       "  <tbody>\n",
       "    <tr>\n",
       "      <th>0</th>\n",
       "      <td>0</td>\n",
       "      <td>POSITIVE</td>\n",
       "    </tr>\n",
       "    <tr>\n",
       "      <th>1</th>\n",
       "      <td>1</td>\n",
       "      <td>POSITIVE</td>\n",
       "    </tr>\n",
       "    <tr>\n",
       "      <th>2</th>\n",
       "      <td>2</td>\n",
       "      <td>POSITIVE</td>\n",
       "    </tr>\n",
       "    <tr>\n",
       "      <th>3</th>\n",
       "      <td>3</td>\n",
       "      <td>POSITIVE</td>\n",
       "    </tr>\n",
       "    <tr>\n",
       "      <th>4</th>\n",
       "      <td>4</td>\n",
       "      <td>POSITIVE</td>\n",
       "    </tr>\n",
       "    <tr>\n",
       "      <th>...</th>\n",
       "      <td>...</td>\n",
       "      <td>...</td>\n",
       "    </tr>\n",
       "    <tr>\n",
       "      <th>55310</th>\n",
       "      <td>55310</td>\n",
       "      <td>POSITIVE</td>\n",
       "    </tr>\n",
       "    <tr>\n",
       "      <th>55311</th>\n",
       "      <td>55311</td>\n",
       "      <td>POSITIVE</td>\n",
       "    </tr>\n",
       "    <tr>\n",
       "      <th>55312</th>\n",
       "      <td>55312</td>\n",
       "      <td>NEGATIVE</td>\n",
       "    </tr>\n",
       "    <tr>\n",
       "      <th>55313</th>\n",
       "      <td>55313</td>\n",
       "      <td>POSITIVE</td>\n",
       "    </tr>\n",
       "    <tr>\n",
       "      <th>55314</th>\n",
       "      <td>55314</td>\n",
       "      <td>NEGATIVE</td>\n",
       "    </tr>\n",
       "  </tbody>\n",
       "</table>\n",
       "<p>55315 rows × 2 columns</p>\n",
       "</div>"
      ],
      "text/plain": [
       "          id sentiment\n",
       "0          0  POSITIVE\n",
       "1          1  POSITIVE\n",
       "2          2  POSITIVE\n",
       "3          3  POSITIVE\n",
       "4          4  POSITIVE\n",
       "...      ...       ...\n",
       "55310  55310  POSITIVE\n",
       "55311  55311  POSITIVE\n",
       "55312  55312  NEGATIVE\n",
       "55313  55313  POSITIVE\n",
       "55314  55314  NEGATIVE\n",
       "\n",
       "[55315 rows x 2 columns]"
      ]
     },
     "execution_count": 64,
     "metadata": {},
     "output_type": "execute_result"
    }
   ],
   "source": [
    "submission['id'] = [i for i in range(55315)]\n",
    "submission['sentiment'] = prediction\n",
    "submission"
   ]
  },
  {
   "cell_type": "code",
   "execution_count": 65,
   "id": "19d7a444",
   "metadata": {
    "execution": {
     "iopub.execute_input": "2023-08-31T18:25:55.756816Z",
     "iopub.status.busy": "2023-08-31T18:25:55.756517Z",
     "iopub.status.idle": "2023-08-31T18:25:55.892647Z",
     "shell.execute_reply": "2023-08-31T18:25:55.891624Z"
    },
    "papermill": {
     "duration": 0.177859,
     "end_time": "2023-08-31T18:25:55.895175",
     "exception": false,
     "start_time": "2023-08-31T18:25:55.717316",
     "status": "completed"
    },
    "tags": []
   },
   "outputs": [],
   "source": [
    "submission.to_csv('submission.csv',index =False)"
   ]
  }
 ],
 "kernelspec": {
  "display_name": "Python 3",
  "language": "python",
  "name": "python3"
 },
 "language_info": {
  "codemirror_mode": {
   "name": "ipython",
   "version": 3
  },
  "file_extension": ".py",
  "mimetype": "text/x-python",
  "name": "python",
  "nbconvert_exporter": "python",
  "pygments_lexer": "ipython3",
  "version": "3.6.4"
 },
 "metadata": {
  "kernelspec": {
   "display_name": "Python 3",
   "language": "python",
   "name": "python3"
  },
  "language_info": {
   "codemirror_mode": {
    "name": "ipython",
    "version": 3
   },
   "file_extension": ".py",
   "mimetype": "text/x-python",
   "name": "python",
   "nbconvert_exporter": "python",
   "pygments_lexer": "ipython3",
   "version": "3.10.10"
  },
  "papermill": {
   "default_parameters": {},
   "duration": 5249.307189,
   "end_time": "2023-08-31T18:25:58.663602",
   "environment_variables": {},
   "exception": null,
   "input_path": "__notebook__.ipynb",
   "output_path": "__notebook__.ipynb",
   "parameters": {},
   "start_time": "2023-08-31T16:58:29.356413",
   "version": "2.4.0"
  }
 },
 "nbformat": 4,
 "nbformat_minor": 5
}
